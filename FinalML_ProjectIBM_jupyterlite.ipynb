{
  "cells": [
    {
      "cell_type": "markdown",
      "metadata": {
        "id": "view-in-github",
        "colab_type": "text"
      },
      "source": [
        "<a href=\"https://colab.research.google.com/github/SiharaVikashIITD/Machine-Learning/blob/main/FinalML_ProjectIBM_jupyterlite.ipynb\" target=\"_parent\"><img src=\"https://colab.research.google.com/assets/colab-badge.svg\" alt=\"Open In Colab\"/></a>"
      ]
    },
    {
      "cell_type": "markdown",
      "metadata": {
        "id": "3e25b2a1-1c75-4740-aebe-f8f141a1ef94"
      },
      "source": [
        "<p style=\"text-align:center\">\n",
        "    <a href=\"https://skills.network/?utm_medium=Exinfluencer&utm_source=Exinfluencer&utm_content=000026UJ&utm_term=10006555&utm_id=NA-SkillsNetwork-Channel-SkillsNetworkCoursesIBMDeveloperSkillsNetworkML0101ENSkillsNetwork20718538-2022-01-01\" target=\"_blank\">\n",
        "    <img src=\"https://cf-courses-data.s3.us.cloud-object-storage.appdomain.cloud/assets/logos/SN_web_lightmode.png\" width=\"200\" alt=\"Skills Network Logo\">\n",
        "    </a>\n",
        "</p>\n",
        "\n",
        "<h1 align=\"center\"><font size=\"5\">Final Project: Classification with Python</font></h1>\n"
      ]
    },
    {
      "cell_type": "markdown",
      "metadata": {
        "id": "64a333d7-fcca-4bdf-9ddf-95c8c9f2d952"
      },
      "source": [
        "<h2>Table of Contents</h2>\n",
        "<div class=\"alert alert-block alert-info\" style=\"margin-top: 20px\">\n",
        "    <ul>\n",
        "    <li><a href=\"https://#Section_1\">Instructions</a></li>\n",
        "    <li><a href=\"https://#Section_2\">About the Data</a></li>\n",
        "    <li><a href=\"https://#Section_3\">Importing Data </a></li>\n",
        "    <li><a href=\"https://#Section_4\">Data Preprocessing</a> </li>\n",
        "    <li><a href=\"https://#Section_5\">One Hot Encoding </a></li>\n",
        "    <li><a href=\"https://#Section_6\">Train and Test Data Split </a></li>\n",
        "    <li><a href=\"https://#Section_7\">Train Logistic Regression, KNN, Decision Tree, SVM, and Linear Regression models and return their appropriate accuracy scores</a></li>\n",
        "</a></li>\n",
        "</div>\n",
        "<p>Estimated Time Needed: <strong>180 min</strong></p>\n",
        "</div>\n",
        "\n",
        "<hr>\n"
      ]
    },
    {
      "cell_type": "markdown",
      "metadata": {
        "id": "01c34459-837f-468d-8b0b-12a8d8b42f71"
      },
      "source": [
        "# Instructions\n"
      ]
    },
    {
      "cell_type": "markdown",
      "metadata": {
        "id": "b7e691c1-bd3f-4f20-91ad-667db2d59342"
      },
      "source": [
        "In this notebook, you will  practice all the classification algorithms that we have learned in this course.\n",
        "\n",
        "\n",
        "Below, is where we are going to use the classification algorithms to create a model based on our training data and evaluate our testing data using evaluation metrics learned in the course.\n",
        "\n",
        "We will use some of the algorithms taught in the course, specifically:\n",
        "\n",
        "1. Linear Regression\n",
        "2. KNN\n",
        "3. Decision Trees\n",
        "4. Logistic Regression\n",
        "5. SVM\n",
        "\n",
        "We will evaluate our models using:\n",
        "\n",
        "1.  Accuracy Score\n",
        "2.  Jaccard Index\n",
        "3.  F1-Score\n",
        "4.  LogLoss\n",
        "5.  Mean Absolute Error\n",
        "6.  Mean Squared Error\n",
        "7.  R2-Score\n",
        "\n",
        "Finally, you will use your models to generate the report at the end.\n"
      ]
    },
    {
      "cell_type": "markdown",
      "metadata": {
        "id": "888f661f-d6dd-4625-a950-b7af2ab4a4a7"
      },
      "source": [
        "# About The Dataset\n"
      ]
    },
    {
      "cell_type": "markdown",
      "metadata": {
        "id": "2ee7647a-c68f-4f68-adb4-f16f1957a694"
      },
      "source": [
        "The original source of the data is Australian Government's Bureau of Meteorology and the latest data can be gathered from [http://www.bom.gov.au/climate/dwo/](http://www.bom.gov.au/climate/dwo/?utm_medium=Exinfluencer&utm_source=Exinfluencer&utm_content=000026UJ&utm_term=10006555&utm_id=NA-SkillsNetwork-Channel-SkillsNetworkCoursesIBMDeveloperSkillsNetworkML0101ENSkillsNetwork20718538-2022-01-01).\n",
        "\n",
        "The dataset to be used has extra columns like 'RainToday' and our target is 'RainTomorrow', which was gathered from the Rattle at [https://bitbucket.org/kayontoga/rattle/src/master/data/weatherAUS.RData](https://bitbucket.org/kayontoga/rattle/src/master/data/weatherAUS.RData?utm_medium=Exinfluencer&utm_source=Exinfluencer&utm_content=000026UJ&utm_term=10006555&utm_id=NA-SkillsNetwork-Channel-SkillsNetworkCoursesIBMDeveloperSkillsNetworkML0101ENSkillsNetwork20718538-2022-01-01)\n",
        "\n",
        "\n"
      ]
    },
    {
      "cell_type": "markdown",
      "metadata": {
        "id": "54fc9230-6c94-49f8-9ed8-fdac52014f72"
      },
      "source": [
        "This dataset contains observations of weather metrics for each day from 2008 to 2017. The **weatherAUS.csv** dataset includes the following fields:\n",
        "\n",
        "| Field         | Description                                           | Unit            | Type   |\n",
        "| ------------- | ----------------------------------------------------- | --------------- | ------ |\n",
        "| Date          | Date of the Observation in YYYY-MM-DD                 | Date            | object |\n",
        "| Location      | Location of the Observation                           | Location        | object |\n",
        "| MinTemp       | Minimum temperature                                   | Celsius         | float  |\n",
        "| MaxTemp       | Maximum temperature                                   | Celsius         | float  |\n",
        "| Rainfall      | Amount of rainfall                                    | Millimeters     | float  |\n",
        "| Evaporation   | Amount of evaporation                                 | Millimeters     | float  |\n",
        "| Sunshine      | Amount of bright sunshine                             | hours           | float  |\n",
        "| WindGustDir   | Direction of the strongest gust                       | Compass Points  | object |\n",
        "| WindGustSpeed | Speed of the strongest gust                           | Kilometers/Hour | object |\n",
        "| WindDir9am    | Wind direction averaged of 10 minutes prior to 9am    | Compass Points  | object |\n",
        "| WindDir3pm    | Wind direction averaged of 10 minutes prior to 3pm    | Compass Points  | object |\n",
        "| WindSpeed9am  | Wind speed averaged of 10 minutes prior to 9am        | Kilometers/Hour | float  |\n",
        "| WindSpeed3pm  | Wind speed averaged of 10 minutes prior to 3pm        | Kilometers/Hour | float  |\n",
        "| Humidity9am   | Humidity at 9am                                       | Percent         | float  |\n",
        "| Humidity3pm   | Humidity at 3pm                                       | Percent         | float  |\n",
        "| Pressure9am   | Atmospheric pressure reduced to mean sea level at 9am | Hectopascal     | float  |\n",
        "| Pressure3pm   | Atmospheric pressure reduced to mean sea level at 3pm | Hectopascal     | float  |\n",
        "| Cloud9am      | Fraction of the sky obscured by cloud at 9am          | Eights          | float  |\n",
        "| Cloud3pm      | Fraction of the sky obscured by cloud at 3pm          | Eights          | float  |\n",
        "| Temp9am       | Temperature at 9am                                    | Celsius         | float  |\n",
        "| Temp3pm       | Temperature at 3pm                                    | Celsius         | float  |\n",
        "| RainToday     | If there was rain today                               | Yes/No          | object |\n",
        "| RainTomorrow  | If there is rain tomorrow                             | Yes/No          | float  |\n",
        "\n",
        "Column definitions were gathered from [http://www.bom.gov.au/climate/dwo/IDCJDW0000.shtml](http://www.bom.gov.au/climate/dwo/IDCJDW0000.shtml?utm_medium=Exinfluencer&utm_source=Exinfluencer&utm_content=000026UJ&utm_term=10006555&utm_id=NA-SkillsNetwork-Channel-SkillsNetworkCoursesIBMDeveloperSkillsNetworkML0101ENSkillsNetwork20718538-2022-01-01)\n",
        "\n"
      ]
    },
    {
      "cell_type": "markdown",
      "metadata": {
        "id": "edfd3145-ceef-4fd9-a6ea-bd33ecfec7e3"
      },
      "source": [
        "## **Import the required libraries**\n"
      ]
    },
    {
      "cell_type": "code",
      "execution_count": null,
      "metadata": {
        "id": "768c96ef-3cb1-4809-8c65-4dff6f450338"
      },
      "outputs": [],
      "source": [
        "# All Libraries required for this lab are listed below. The libraries pre-installed on Skills Network Labs are commented.\n",
        "# !mamba install -qy pandas==1.3.4 numpy==1.21.4 seaborn==0.9.0 matplotlib==3.5.0 scikit-learn==0.20.1\n",
        "# Note: If your environment doesn't support \"!mamba install\", use \"!pip install\""
      ]
    },
    {
      "cell_type": "code",
      "execution_count": null,
      "metadata": {
        "id": "bdc34c17-9fce-479a-b050-6e1ccd2c22b9"
      },
      "outputs": [],
      "source": [
        "# Surpress warnings:\n",
        "def warn(*args, **kwargs):\n",
        "    pass\n",
        "import warnings\n",
        "warnings.warn = warn"
      ]
    },
    {
      "cell_type": "code",
      "execution_count": null,
      "metadata": {
        "id": "f9004a35-35ce-4d2a-b925-27686e832041"
      },
      "outputs": [],
      "source": [
        "import pandas as pd\n",
        "from sklearn.linear_model import LogisticRegression\n",
        "from sklearn.linear_model import LinearRegression\n",
        "from sklearn import preprocessing\n",
        "import numpy as np\n",
        "from sklearn.neighbors import KNeighborsClassifier\n",
        "from sklearn.model_selection import train_test_split\n",
        "from sklearn.neighbors import KNeighborsClassifier\n",
        "from sklearn.tree import DecisionTreeClassifier\n",
        "from sklearn import svm\n",
        "from sklearn.metrics import jaccard_score\n",
        "from sklearn.metrics import f1_score\n",
        "from sklearn.metrics import log_loss\n",
        "from sklearn.metrics import confusion_matrix, accuracy_score\n",
        "import sklearn.metrics as metrics"
      ]
    },
    {
      "cell_type": "markdown",
      "metadata": {
        "id": "2e3cc65e-7e37-4806-844d-d9125bc1c357"
      },
      "source": [
        "### Importing the Dataset\n"
      ]
    },
    {
      "cell_type": "markdown",
      "metadata": {
        "id": "AxqtXtLpGSfG"
      },
      "source": [
        "### I have Jupitor Annaconda please ignore below Commented Lines , These are not needed to import data"
      ]
    },
    {
      "cell_type": "code",
      "execution_count": null,
      "metadata": {
        "id": "9d0c0a39-51f0-46c0-b062-1e2cc9de2701"
      },
      "outputs": [],
      "source": [
        "#from pyodide.http import pyfetch # type: ignore\n",
        "\n",
        "#async def download(url, filename):\n",
        "   #response = await pyfetch(url)\n",
        "  # if response.status == 200:\n",
        " #     with open(filename, \"wb\") as f:\n",
        "#         f.write(await response.bytes())"
      ]
    },
    {
      "cell_type": "code",
      "execution_count": null,
      "metadata": {
        "id": "fe327516-e310-4aa2-a520-5c15c3073a75"
      },
      "outputs": [],
      "source": [
        "#path='https://cf-courses-data.s3.us.cloud-object-storage.appdomain.cloud/IBMDeveloperSkillsNetwork-ML0101EN-SkillUp/labs/ML-FinalAssignment/Weather_Data.csv'"
      ]
    },
    {
      "cell_type": "code",
      "execution_count": null,
      "metadata": {
        "id": "15628dfb-f92b-40db-bd1f-d296de21cac5"
      },
      "outputs": [],
      "source": [
        "#await download(path, \"Weather_Data.csv\")\n",
        "#filename =\"Weather_Data.csv\""
      ]
    },
    {
      "cell_type": "code",
      "execution_count": null,
      "metadata": {
        "id": "06891094-bcbe-4855-b55c-61e7ec51c92d"
      },
      "outputs": [],
      "source": [
        "#df = pd.read_csv(\"Weather_Data.csv\")"
      ]
    },
    {
      "cell_type": "markdown",
      "metadata": {
        "id": "512949c4-db76-4be7-9479-111c06fec261"
      },
      "source": [
        "> Note: This version of the lab is designed for JupyterLite, which necessitates downloading the dataset to the interface. However, when working with the downloaded version of this notebook on your local machines (Jupyter Anaconda), you can simply **skip the steps above of \"Importing the Dataset\"** and use the URL directly in the `pandas.read_csv()` function. You can uncomment and run the statements in the cell below.\n"
      ]
    },
    {
      "cell_type": "markdown",
      "metadata": {
        "id": "U5-dYCX5GSfK"
      },
      "source": [
        "### Start From Here After Importing Essential ML Libraries"
      ]
    },
    {
      "cell_type": "code",
      "execution_count": null,
      "metadata": {
        "id": "cb6549f6-5e45-4215-bc0d-029266952b62"
      },
      "outputs": [],
      "source": [
        "filepath = \"https://cf-courses-data.s3.us.cloud-object-storage.appdomain.cloud/IBMDeveloperSkillsNetwork-ML0101EN-SkillUp/labs/ML-FinalAssignment/Weather_Data.csv\"\n",
        "df = pd.read_csv(filepath)"
      ]
    },
    {
      "cell_type": "code",
      "execution_count": null,
      "metadata": {
        "id": "40479331-9d4a-4f4a-9633-9fd539aa33d1",
        "outputId": "bd994eed-0a49-4f22-ac5e-7eda09bb0c32"
      },
      "outputs": [
        {
          "data": {
            "text/html": [
              "<div>\n",
              "<style scoped>\n",
              "    .dataframe tbody tr th:only-of-type {\n",
              "        vertical-align: middle;\n",
              "    }\n",
              "\n",
              "    .dataframe tbody tr th {\n",
              "        vertical-align: top;\n",
              "    }\n",
              "\n",
              "    .dataframe thead th {\n",
              "        text-align: right;\n",
              "    }\n",
              "</style>\n",
              "<table border=\"1\" class=\"dataframe\">\n",
              "  <thead>\n",
              "    <tr style=\"text-align: right;\">\n",
              "      <th></th>\n",
              "      <th>Date</th>\n",
              "      <th>MinTemp</th>\n",
              "      <th>MaxTemp</th>\n",
              "      <th>Rainfall</th>\n",
              "      <th>Evaporation</th>\n",
              "      <th>Sunshine</th>\n",
              "      <th>WindGustDir</th>\n",
              "      <th>WindGustSpeed</th>\n",
              "      <th>WindDir9am</th>\n",
              "      <th>WindDir3pm</th>\n",
              "      <th>...</th>\n",
              "      <th>Humidity9am</th>\n",
              "      <th>Humidity3pm</th>\n",
              "      <th>Pressure9am</th>\n",
              "      <th>Pressure3pm</th>\n",
              "      <th>Cloud9am</th>\n",
              "      <th>Cloud3pm</th>\n",
              "      <th>Temp9am</th>\n",
              "      <th>Temp3pm</th>\n",
              "      <th>RainToday</th>\n",
              "      <th>RainTomorrow</th>\n",
              "    </tr>\n",
              "  </thead>\n",
              "  <tbody>\n",
              "    <tr>\n",
              "      <th>0</th>\n",
              "      <td>2/1/2008</td>\n",
              "      <td>19.5</td>\n",
              "      <td>22.4</td>\n",
              "      <td>15.6</td>\n",
              "      <td>6.2</td>\n",
              "      <td>0.0</td>\n",
              "      <td>W</td>\n",
              "      <td>41</td>\n",
              "      <td>S</td>\n",
              "      <td>SSW</td>\n",
              "      <td>...</td>\n",
              "      <td>92</td>\n",
              "      <td>84</td>\n",
              "      <td>1017.6</td>\n",
              "      <td>1017.4</td>\n",
              "      <td>8</td>\n",
              "      <td>8</td>\n",
              "      <td>20.7</td>\n",
              "      <td>20.9</td>\n",
              "      <td>Yes</td>\n",
              "      <td>Yes</td>\n",
              "    </tr>\n",
              "    <tr>\n",
              "      <th>1</th>\n",
              "      <td>2/2/2008</td>\n",
              "      <td>19.5</td>\n",
              "      <td>25.6</td>\n",
              "      <td>6.0</td>\n",
              "      <td>3.4</td>\n",
              "      <td>2.7</td>\n",
              "      <td>W</td>\n",
              "      <td>41</td>\n",
              "      <td>W</td>\n",
              "      <td>E</td>\n",
              "      <td>...</td>\n",
              "      <td>83</td>\n",
              "      <td>73</td>\n",
              "      <td>1017.9</td>\n",
              "      <td>1016.4</td>\n",
              "      <td>7</td>\n",
              "      <td>7</td>\n",
              "      <td>22.4</td>\n",
              "      <td>24.8</td>\n",
              "      <td>Yes</td>\n",
              "      <td>Yes</td>\n",
              "    </tr>\n",
              "    <tr>\n",
              "      <th>2</th>\n",
              "      <td>2/3/2008</td>\n",
              "      <td>21.6</td>\n",
              "      <td>24.5</td>\n",
              "      <td>6.6</td>\n",
              "      <td>2.4</td>\n",
              "      <td>0.1</td>\n",
              "      <td>W</td>\n",
              "      <td>41</td>\n",
              "      <td>ESE</td>\n",
              "      <td>ESE</td>\n",
              "      <td>...</td>\n",
              "      <td>88</td>\n",
              "      <td>86</td>\n",
              "      <td>1016.7</td>\n",
              "      <td>1015.6</td>\n",
              "      <td>7</td>\n",
              "      <td>8</td>\n",
              "      <td>23.5</td>\n",
              "      <td>23.0</td>\n",
              "      <td>Yes</td>\n",
              "      <td>Yes</td>\n",
              "    </tr>\n",
              "    <tr>\n",
              "      <th>3</th>\n",
              "      <td>2/4/2008</td>\n",
              "      <td>20.2</td>\n",
              "      <td>22.8</td>\n",
              "      <td>18.8</td>\n",
              "      <td>2.2</td>\n",
              "      <td>0.0</td>\n",
              "      <td>W</td>\n",
              "      <td>41</td>\n",
              "      <td>NNE</td>\n",
              "      <td>E</td>\n",
              "      <td>...</td>\n",
              "      <td>83</td>\n",
              "      <td>90</td>\n",
              "      <td>1014.2</td>\n",
              "      <td>1011.8</td>\n",
              "      <td>8</td>\n",
              "      <td>8</td>\n",
              "      <td>21.4</td>\n",
              "      <td>20.9</td>\n",
              "      <td>Yes</td>\n",
              "      <td>Yes</td>\n",
              "    </tr>\n",
              "    <tr>\n",
              "      <th>4</th>\n",
              "      <td>2/5/2008</td>\n",
              "      <td>19.7</td>\n",
              "      <td>25.7</td>\n",
              "      <td>77.4</td>\n",
              "      <td>4.8</td>\n",
              "      <td>0.0</td>\n",
              "      <td>W</td>\n",
              "      <td>41</td>\n",
              "      <td>NNE</td>\n",
              "      <td>W</td>\n",
              "      <td>...</td>\n",
              "      <td>88</td>\n",
              "      <td>74</td>\n",
              "      <td>1008.3</td>\n",
              "      <td>1004.8</td>\n",
              "      <td>8</td>\n",
              "      <td>8</td>\n",
              "      <td>22.5</td>\n",
              "      <td>25.5</td>\n",
              "      <td>Yes</td>\n",
              "      <td>Yes</td>\n",
              "    </tr>\n",
              "  </tbody>\n",
              "</table>\n",
              "<p>5 rows × 22 columns</p>\n",
              "</div>"
            ],
            "text/plain": [
              "       Date  MinTemp  MaxTemp  Rainfall  Evaporation  Sunshine WindGustDir  \\\n",
              "0  2/1/2008     19.5     22.4      15.6          6.2       0.0           W   \n",
              "1  2/2/2008     19.5     25.6       6.0          3.4       2.7           W   \n",
              "2  2/3/2008     21.6     24.5       6.6          2.4       0.1           W   \n",
              "3  2/4/2008     20.2     22.8      18.8          2.2       0.0           W   \n",
              "4  2/5/2008     19.7     25.7      77.4          4.8       0.0           W   \n",
              "\n",
              "   WindGustSpeed WindDir9am WindDir3pm  ...  Humidity9am  Humidity3pm  \\\n",
              "0             41          S        SSW  ...           92           84   \n",
              "1             41          W          E  ...           83           73   \n",
              "2             41        ESE        ESE  ...           88           86   \n",
              "3             41        NNE          E  ...           83           90   \n",
              "4             41        NNE          W  ...           88           74   \n",
              "\n",
              "   Pressure9am  Pressure3pm  Cloud9am  Cloud3pm  Temp9am  Temp3pm  RainToday  \\\n",
              "0       1017.6       1017.4         8         8     20.7     20.9        Yes   \n",
              "1       1017.9       1016.4         7         7     22.4     24.8        Yes   \n",
              "2       1016.7       1015.6         7         8     23.5     23.0        Yes   \n",
              "3       1014.2       1011.8         8         8     21.4     20.9        Yes   \n",
              "4       1008.3       1004.8         8         8     22.5     25.5        Yes   \n",
              "\n",
              "   RainTomorrow  \n",
              "0           Yes  \n",
              "1           Yes  \n",
              "2           Yes  \n",
              "3           Yes  \n",
              "4           Yes  \n",
              "\n",
              "[5 rows x 22 columns]"
            ]
          },
          "execution_count": 12,
          "metadata": {},
          "output_type": "execute_result"
        }
      ],
      "source": [
        "df.head()"
      ]
    },
    {
      "cell_type": "markdown",
      "metadata": {
        "id": "6c2e6b6c-681c-4dab-b8c2-e4b4a3b9865a"
      },
      "source": [
        "### Data Preprocessing\n"
      ]
    },
    {
      "cell_type": "markdown",
      "metadata": {
        "id": "d8e184cf-7d18-487e-99b2-d20a5464ebf5"
      },
      "source": [
        "#### One Hot Encoding\n"
      ]
    },
    {
      "cell_type": "markdown",
      "metadata": {
        "id": "feaea6fc-58ed-40de-a928-0a0ef688207a"
      },
      "source": [
        "First, we need to perform one hot encoding to convert categorical variables to binary variables.\n"
      ]
    },
    {
      "cell_type": "code",
      "execution_count": null,
      "metadata": {
        "id": "66a52820-9b4a-4b7a-af4c-d6e01297dc7f"
      },
      "outputs": [],
      "source": [
        "df_sydney_processed = pd.get_dummies(data=df, columns=['RainToday', 'WindGustDir', 'WindDir9am', 'WindDir3pm']) #get_dummies function --> converts catogorical data to binary of"
      ]
    },
    {
      "cell_type": "markdown",
      "metadata": {
        "id": "0826f051-c8d7-4ebb-ae92-4df9654dd747"
      },
      "source": [
        "Next, we replace the values of the 'RainTomorrow' column changing them from a categorical column to a binary column. We do not use the `get_dummies` method because we would end up with two columns for 'RainTomorrow' and we do not want, since 'RainTomorrow' is our target.\n"
      ]
    },
    {
      "cell_type": "code",
      "execution_count": null,
      "metadata": {
        "id": "44ed63a3-6587-4ec5-885e-515719079a67"
      },
      "outputs": [],
      "source": [
        "df_sydney_processed.replace(['No', 'Yes'], [0,1], inplace=True)"
      ]
    },
    {
      "cell_type": "markdown",
      "metadata": {
        "id": "2e3cfa30-2d2d-4652-878f-a99f0fb02d2f"
      },
      "source": [
        "### Training Data and Test Data\n"
      ]
    },
    {
      "cell_type": "markdown",
      "metadata": {
        "id": "5a8c7d85-f098-4d88-ad8e-918448f0a408"
      },
      "source": [
        "Now, we set our 'features' or x values and our Y or target variable.\n"
      ]
    },
    {
      "cell_type": "code",
      "execution_count": null,
      "metadata": {
        "id": "97c365ab-97b0-4125-af4f-5ffa38b37ca0"
      },
      "outputs": [],
      "source": [
        "df_sydney_processed.drop('Date',axis=1,inplace=True)"
      ]
    },
    {
      "cell_type": "markdown",
      "metadata": {
        "id": "fZqAAFo0GSfN"
      },
      "source": [
        "axis=1: Indicates that the operation is targeting a column. (If axis=0, it would target rows instead.)\n",
        " inplace=True:\n",
        "\n",
        "When inplace=True, the operation is performed directly on the existing DataFrame, modifying it in place without the need to create or return a new DataFrame.\n",
        "If inplace=False (default), a new DataFrame with the column removed would be returned, and the original DataFrame would remain unchanged."
      ]
    },
    {
      "cell_type": "code",
      "execution_count": null,
      "metadata": {
        "id": "3d0cb951-2eb3-4b7d-99ff-4cdb7b3d5e35"
      },
      "outputs": [],
      "source": [
        "df_sydney_processed = df_sydney_processed.astype(float)"
      ]
    },
    {
      "cell_type": "code",
      "execution_count": null,
      "metadata": {
        "id": "cbc8a10c-b1ad-447a-bf99-a2f391aead0b"
      },
      "outputs": [],
      "source": [
        "features = df_sydney_processed.drop(columns='RainTomorrow', axis=1)\n",
        "Y = df_sydney_processed['RainTomorrow']"
      ]
    },
    {
      "cell_type": "markdown",
      "metadata": {
        "id": "0cef42ae-5385-4648-abce-f9e6d1257776"
      },
      "source": [
        "### Linear Regression\n"
      ]
    },
    {
      "cell_type": "markdown",
      "metadata": {
        "id": "a5fd00b7-45ce-4bb5-ad3e-005ee94116f4"
      },
      "source": [
        "#### Q1) Use the `train_test_split` function to split the `features` and `Y` dataframes with a `test_size` of `0.2` and the `random_state` set to `10`.\n"
      ]
    },
    {
      "cell_type": "code",
      "execution_count": null,
      "metadata": {
        "id": "7a191949-6f38-4994-aee6-c6409fb74c45"
      },
      "outputs": [],
      "source": [
        "#Enter Your Code and Execute\n",
        "from sklearn.model_selection import train_test_split"
      ]
    },
    {
      "cell_type": "code",
      "execution_count": null,
      "metadata": {
        "id": "4a40f864-0d34-4091-97ea-88e69b4a2ded"
      },
      "outputs": [],
      "source": [
        "x_train, x_test, y_train, y_test =train_test_split(features ,Y ,test_size=0.2 ,random_state= 10)"
      ]
    },
    {
      "cell_type": "markdown",
      "metadata": {
        "id": "1aa46059-a201-47c9-beeb-b5b67dd03665"
      },
      "source": [
        "#### Q2) Create and train a Linear Regression model called LinearReg using the training data (`x_train`, `y_train`).\n"
      ]
    },
    {
      "cell_type": "code",
      "execution_count": null,
      "metadata": {
        "id": "871a7bd7-52bc-4847-b790-331210887ba4"
      },
      "outputs": [],
      "source": [
        "#Enter Your Code and Execute\n",
        "from sklearn.linear_model import LinearRegression"
      ]
    },
    {
      "cell_type": "code",
      "execution_count": null,
      "metadata": {
        "id": "07b59f24-f40f-49ce-a031-b3a9fc7e4550",
        "outputId": "04b973b0-df00-4756-fc8b-f00afc72dccd"
      },
      "outputs": [
        {
          "data": {
            "text/html": [
              "<style>#sk-container-id-2 {color: black;background-color: white;}#sk-container-id-2 pre{padding: 0;}#sk-container-id-2 div.sk-toggleable {background-color: white;}#sk-container-id-2 label.sk-toggleable__label {cursor: pointer;display: block;width: 100%;margin-bottom: 0;padding: 0.3em;box-sizing: border-box;text-align: center;}#sk-container-id-2 label.sk-toggleable__label-arrow:before {content: \"▸\";float: left;margin-right: 0.25em;color: #696969;}#sk-container-id-2 label.sk-toggleable__label-arrow:hover:before {color: black;}#sk-container-id-2 div.sk-estimator:hover label.sk-toggleable__label-arrow:before {color: black;}#sk-container-id-2 div.sk-toggleable__content {max-height: 0;max-width: 0;overflow: hidden;text-align: left;background-color: #f0f8ff;}#sk-container-id-2 div.sk-toggleable__content pre {margin: 0.2em;color: black;border-radius: 0.25em;background-color: #f0f8ff;}#sk-container-id-2 input.sk-toggleable__control:checked~div.sk-toggleable__content {max-height: 200px;max-width: 100%;overflow: auto;}#sk-container-id-2 input.sk-toggleable__control:checked~label.sk-toggleable__label-arrow:before {content: \"▾\";}#sk-container-id-2 div.sk-estimator input.sk-toggleable__control:checked~label.sk-toggleable__label {background-color: #d4ebff;}#sk-container-id-2 div.sk-label input.sk-toggleable__control:checked~label.sk-toggleable__label {background-color: #d4ebff;}#sk-container-id-2 input.sk-hidden--visually {border: 0;clip: rect(1px 1px 1px 1px);clip: rect(1px, 1px, 1px, 1px);height: 1px;margin: -1px;overflow: hidden;padding: 0;position: absolute;width: 1px;}#sk-container-id-2 div.sk-estimator {font-family: monospace;background-color: #f0f8ff;border: 1px dotted black;border-radius: 0.25em;box-sizing: border-box;margin-bottom: 0.5em;}#sk-container-id-2 div.sk-estimator:hover {background-color: #d4ebff;}#sk-container-id-2 div.sk-parallel-item::after {content: \"\";width: 100%;border-bottom: 1px solid gray;flex-grow: 1;}#sk-container-id-2 div.sk-label:hover label.sk-toggleable__label {background-color: #d4ebff;}#sk-container-id-2 div.sk-serial::before {content: \"\";position: absolute;border-left: 1px solid gray;box-sizing: border-box;top: 0;bottom: 0;left: 50%;z-index: 0;}#sk-container-id-2 div.sk-serial {display: flex;flex-direction: column;align-items: center;background-color: white;padding-right: 0.2em;padding-left: 0.2em;position: relative;}#sk-container-id-2 div.sk-item {position: relative;z-index: 1;}#sk-container-id-2 div.sk-parallel {display: flex;align-items: stretch;justify-content: center;background-color: white;position: relative;}#sk-container-id-2 div.sk-item::before, #sk-container-id-2 div.sk-parallel-item::before {content: \"\";position: absolute;border-left: 1px solid gray;box-sizing: border-box;top: 0;bottom: 0;left: 50%;z-index: -1;}#sk-container-id-2 div.sk-parallel-item {display: flex;flex-direction: column;z-index: 1;position: relative;background-color: white;}#sk-container-id-2 div.sk-parallel-item:first-child::after {align-self: flex-end;width: 50%;}#sk-container-id-2 div.sk-parallel-item:last-child::after {align-self: flex-start;width: 50%;}#sk-container-id-2 div.sk-parallel-item:only-child::after {width: 0;}#sk-container-id-2 div.sk-dashed-wrapped {border: 1px dashed gray;margin: 0 0.4em 0.5em 0.4em;box-sizing: border-box;padding-bottom: 0.4em;background-color: white;}#sk-container-id-2 div.sk-label label {font-family: monospace;font-weight: bold;display: inline-block;line-height: 1.2em;}#sk-container-id-2 div.sk-label-container {text-align: center;}#sk-container-id-2 div.sk-container {/* jupyter's `normalize.less` sets `[hidden] { display: none; }` but bootstrap.min.css set `[hidden] { display: none !important; }` so we also need the `!important` here to be able to override the default hidden behavior on the sphinx rendered scikit-learn.org. See: https://github.com/scikit-learn/scikit-learn/issues/21755 */display: inline-block !important;position: relative;}#sk-container-id-2 div.sk-text-repr-fallback {display: none;}</style><div id=\"sk-container-id-2\" class=\"sk-top-container\"><div class=\"sk-text-repr-fallback\"><pre>LinearRegression()</pre><b>In a Jupyter environment, please rerun this cell to show the HTML representation or trust the notebook. <br />On GitHub, the HTML representation is unable to render, please try loading this page with nbviewer.org.</b></div><div class=\"sk-container\" hidden><div class=\"sk-item\"><div class=\"sk-estimator sk-toggleable\"><input class=\"sk-toggleable__control sk-hidden--visually\" id=\"sk-estimator-id-2\" type=\"checkbox\" checked><label for=\"sk-estimator-id-2\" class=\"sk-toggleable__label sk-toggleable__label-arrow\">LinearRegression</label><div class=\"sk-toggleable__content\"><pre>LinearRegression()</pre></div></div></div></div></div>"
            ],
            "text/plain": [
              "LinearRegression()"
            ]
          },
          "execution_count": 23,
          "metadata": {},
          "output_type": "execute_result"
        }
      ],
      "source": [
        "LinearReg = LinearRegression()\n",
        "LinearReg.fit(x_train,y_train)"
      ]
    },
    {
      "cell_type": "markdown",
      "metadata": {
        "id": "7caa9b37-022c-483d-bfe4-c0ed7d1877a1"
      },
      "source": [
        "#### Q3) Now use the `predict` method on the testing data (`x_test`) and save it to the array `predictions`.\n"
      ]
    },
    {
      "cell_type": "code",
      "execution_count": null,
      "metadata": {
        "id": "495fe568-bc5c-46a7-abf7-b8ebfa06e599",
        "outputId": "ad80ffe2-21a0-4652-9758-789aa8e1cdc1"
      },
      "outputs": [
        {
          "data": {
            "text/plain": [
              "array([ 1.31782532e-01,  2.76153564e-01,  9.78088379e-01,  2.87483215e-01,\n",
              "        1.32377625e-01,  4.60464478e-01,  3.56773376e-01,  8.56460571e-01,\n",
              "        6.75010681e-01,  3.82766724e-02,  4.82940674e-03,  2.81181335e-01,\n",
              "        3.39042664e-01,  7.80868530e-02,  6.26449585e-02,  5.64521790e-01,\n",
              "       -6.15615845e-02,  5.24208069e-01,  1.53785706e-01,  3.59672546e-01,\n",
              "        6.05087280e-02,  9.03572083e-01,  4.67338562e-01,  2.03323364e-01,\n",
              "       -7.10830688e-02,  3.83865356e-01,  5.36071777e-01, -2.28652954e-02,\n",
              "        6.40052795e-01, -9.56726074e-02,  3.78089905e-01,  1.20277405e-01,\n",
              "       -1.81350708e-02,  5.53970337e-02,  5.63514709e-01,  1.06302643e+00,\n",
              "       -6.73675537e-03,  5.14488220e-01, -8.83865356e-02,  6.92062378e-02,\n",
              "        2.44827271e-02,  8.71726990e-01,  2.44621277e-01,  3.94760132e-01,\n",
              "        2.67494202e-01,  4.46762085e-01, -4.75540161e-02,  1.89407349e-01,\n",
              "        7.76573181e-01,  1.57707214e-01,  3.91387939e-03, -5.19638062e-02,\n",
              "        2.07328796e-01, -2.07908630e-01, -7.60879517e-02,  2.49641418e-01,\n",
              "        2.79273987e-01,  6.02851868e-01,  6.29592896e-01,  4.90715027e-01,\n",
              "        5.63888550e-02,  1.05461121e-01,  6.69990540e-01,  7.64839172e-01,\n",
              "        9.84802246e-02, -6.33010864e-02,  4.13795471e-01,  7.26165771e-02,\n",
              "        2.49977112e-01,  2.56477356e-01,  3.78570557e-02, -6.88705444e-02,\n",
              "        3.48220825e-01,  1.73110962e-01,  4.15390015e-01, -7.24411011e-02,\n",
              "        3.41178894e-01,  1.86973572e-01, -1.54838562e-01,  7.99736023e-01,\n",
              "        2.32406616e-01,  2.37342834e-01,  2.56103516e-01,  1.03439331e-01,\n",
              "        6.20689392e-01,  1.29676819e-01,  3.71398926e-01,  4.83024597e-01,\n",
              "        3.08250427e-01,  1.19438171e-01,  5.48324585e-02,  1.12785339e-01,\n",
              "       -1.62445068e-01, -1.57966614e-01,  7.28530884e-02,  7.76443481e-01,\n",
              "        8.42971802e-02,  6.43096924e-01,  1.21810913e-01,  1.78077698e-01,\n",
              "        3.04893494e-01,  1.85523987e-01,  1.13146210e+00,  3.44383240e-01,\n",
              "        8.26858521e-01,  5.38887024e-01,  2.74291992e-01,  6.29371643e-01,\n",
              "       -6.72454834e-02,  9.63615417e-01,  5.61912537e-01,  2.34298706e-02,\n",
              "        1.05628967e-01,  9.38644409e-02,  8.15734863e-02,  2.92030334e-01,\n",
              "        5.55122375e-01,  6.69174194e-02,  4.25491333e-02,  9.15527344e-04,\n",
              "        1.37611389e-01, -2.18009949e-01,  7.01370239e-02,  1.19743347e-01,\n",
              "        1.92710876e-01, -3.83148193e-02,  1.55982971e-01,  7.12615967e-01,\n",
              "        2.62329102e-01,  5.34835815e-01,  3.97834778e-01, -4.65545654e-02,\n",
              "        2.43972778e-01,  2.06321716e-01,  2.80395508e-01, -1.28204346e-01,\n",
              "        1.19529724e-01,  3.83377075e-01,  1.84379578e-01,  7.28614807e-01,\n",
              "        3.31779480e-01, -1.03202820e-01,  2.39532471e-01,  3.05999756e-01,\n",
              "        6.63154602e-01,  2.21633911e-02,  1.60064697e-01,  5.21621704e-01,\n",
              "       -4.34417725e-02,  7.98316956e-01,  2.21687317e-01,  3.89877319e-01,\n",
              "       -5.63583374e-02,  4.02343750e-01,  2.34130859e-01,  1.20452881e-01,\n",
              "        3.05458069e-01,  7.86186218e-01,  3.32870483e-02,  1.22553253e+00,\n",
              "        8.94706726e-01,  8.18176270e-02, -1.51977539e-02,  1.71012878e-01,\n",
              "       -6.85882568e-02, -1.07826233e-01, -5.01937866e-02,  2.98667908e-01,\n",
              "        3.57048035e-01,  9.57412720e-02,  8.85307312e-01, -3.33786011e-02,\n",
              "        5.99205017e-01,  8.94927979e-02,  9.83657837e-02,  3.54164124e-01,\n",
              "        2.35893250e-01, -6.72836304e-02,  1.44309998e-01,  4.17808533e-01,\n",
              "        5.87440491e-01,  2.16773987e-01, -3.32717896e-02,  1.00634766e+00,\n",
              "        4.25872803e-02, -1.74026489e-02,  2.48222351e-01, -5.93338013e-02,\n",
              "        2.22259521e-01, -7.19223022e-02,  8.47396851e-02,  7.15713501e-02,\n",
              "        3.49349976e-02,  4.43504333e-01,  1.86744690e-01,  1.83174133e-01,\n",
              "        7.56149292e-02,  1.36947632e-02,  1.84654236e-01,  2.32337952e-01,\n",
              "        5.30570984e-01,  1.60308838e-01,  3.95248413e-01, -4.48989868e-02,\n",
              "        8.39263916e-01,  1.65863037e-02, -1.70288086e-02, -2.14080811e-02,\n",
              "        1.46392822e-01,  1.38114929e-01, -3.35006714e-02,  4.14924622e-01,\n",
              "        6.57295227e-01, -4.89044189e-03,  2.86331177e-02,  4.61502075e-02,\n",
              "       -7.21664429e-02,  2.73780823e-01,  5.28648376e-01, -5.90286255e-02,\n",
              "        8.43177795e-01,  3.25874329e-01,  3.18893433e-01,  3.63616943e-02,\n",
              "       -8.51821899e-02,  2.83226013e-01,  3.01261902e-01,  1.37733459e-01,\n",
              "        3.35823059e-01,  4.12498474e-01,  3.75244141e-01,  1.24153137e-01,\n",
              "        2.87879944e-01,  9.06158447e-01,  4.45510864e-01,  2.74833679e-01,\n",
              "       -6.66046143e-03,  6.91795349e-01,  6.71966553e-01,  1.15348816e-01,\n",
              "        7.74536133e-01,  9.94400024e-01,  5.87608337e-01,  3.14361572e-01,\n",
              "        2.26425171e-01, -4.47082520e-02,  2.26020813e-01,  2.30567932e-01,\n",
              "        3.54957581e-01, -1.26609802e-01,  3.53012085e-02,  1.82228088e-01,\n",
              "        2.15400696e-01,  1.76094055e-01, -2.96478271e-02,  1.00051880e+00,\n",
              "        1.88224792e-01,  7.52113342e-01,  6.19873047e-01,  7.17811584e-01,\n",
              "        3.15574646e-01,  2.23617554e-02,  3.26393127e-01, -6.88934326e-03,\n",
              "        2.81578064e-01, -2.27432251e-02,  7.98339844e-02, -2.37274170e-03,\n",
              "        3.57124329e-01,  1.36497498e-01,  2.65785217e-01,  1.40151978e-02,\n",
              "        2.21122742e-01,  7.07374573e-01,  1.59515381e-01,  2.04536438e-01,\n",
              "        5.38299561e-01, -1.52595520e-01,  2.54798889e-01,  2.76359558e-01,\n",
              "        2.64022827e-01,  6.69326782e-02,  9.74380493e-01,  2.00012207e-01,\n",
              "        7.55783081e-01, -3.49960327e-02,  4.87709045e-01,  5.89752197e-03,\n",
              "       -7.24411011e-02,  3.05664062e-01, -2.05085754e-01,  1.90986633e-01,\n",
              "       -2.46047974e-02, -7.71484375e-02,  2.78923035e-01,  7.84225464e-02,\n",
              "        2.33840942e-01,  4.44847107e-01,  6.62460327e-02, -3.31573486e-02,\n",
              "        5.83091736e-01,  5.78460693e-02,  3.20503235e-01,  7.24166870e-01,\n",
              "        1.35353088e-01, -2.21786499e-02,  7.33055115e-01, -3.08296204e-01,\n",
              "        1.09135437e+00,  2.85949707e-01,  8.85025024e-01,  6.96632385e-01,\n",
              "        5.85266113e-01, -2.22396851e-02,  9.52064514e-01,  7.14958191e-01,\n",
              "        4.48501587e-01,  5.80467224e-01,  1.87095642e-01,  2.29614258e-01,\n",
              "       -5.77468872e-02,  3.15238953e-01,  8.74656677e-01, -1.67694092e-02,\n",
              "        2.52609253e-01, -3.34930420e-02, -4.39987183e-02,  4.13589478e-02,\n",
              "        2.35946655e-01,  2.03071594e-01,  8.81996155e-01,  5.87257385e-01,\n",
              "        1.20094299e-01, -2.02865601e-02, -1.92718506e-02,  1.03446960e-01,\n",
              "        8.26263428e-03,  2.29148865e-01, -1.69754028e-02,  7.15484619e-02,\n",
              "        1.62742615e-01,  1.70097351e-01,  2.46543884e-01,  1.47781372e-01,\n",
              "        3.91838074e-01, -6.66122437e-02,  1.15684509e-01,  1.84471130e-01,\n",
              "        9.07058716e-02, -1.80282593e-02,  2.09297180e-01, -1.30462646e-02,\n",
              "        5.46470642e-01,  4.15779114e-01,  1.78169250e-01,  1.72042847e-02,\n",
              "        4.93850708e-01,  1.47155762e-01,  5.24894714e-01,  5.98114014e-01,\n",
              "        3.08280945e-01,  3.09295654e-01,  4.46388245e-01,  1.68220520e-01,\n",
              "        2.60719299e-01,  7.56401062e-01,  4.06272888e-01,  4.90669250e-01,\n",
              "        5.14297485e-01, -1.30180359e-01,  7.90176392e-02,  3.50608826e-01,\n",
              "        1.00466919e+00,  2.73452759e-01,  6.35429382e-01,  5.78605652e-01,\n",
              "        4.68185425e-01,  3.74603271e-03,  3.59062195e-01,  6.74667358e-02,\n",
              "       -4.23889160e-02,  7.03315735e-01,  1.27159119e-01,  8.00025940e-01,\n",
              "        4.70840454e-01, -1.74484253e-02,  2.93350220e-02,  5.55259705e-01,\n",
              "        5.01327515e-02,  1.15348816e-01, -9.69696045e-03,  1.47483826e-01,\n",
              "        4.71153259e-01, -9.27658081e-02,  8.09402466e-02,  3.10745239e-02,\n",
              "        3.94844055e-01,  2.23731995e-01,  1.00329590e+00,  7.08076477e-01,\n",
              "        3.56101990e-01,  2.62931824e-01, -2.83889771e-02, -9.58251953e-03,\n",
              "        3.09677124e-02,  1.41662598e-01,  7.82546997e-02,  5.12550354e-01,\n",
              "        2.04780579e-01,  3.11676025e-01,  5.28495789e-01,  4.61898804e-01,\n",
              "        5.35964966e-02,  8.17260742e-01,  5.33927917e-01, -1.38145447e-01,\n",
              "        5.09429932e-01,  1.94168091e-01,  4.56214905e-01,  1.85157776e-01,\n",
              "        2.21946716e-01,  1.15570068e-01,  6.33010864e-02,  7.36923218e-02,\n",
              "        1.02340698e-01,  5.51345825e-01,  7.02964783e-01,  5.22079468e-01,\n",
              "        5.35041809e-01,  3.19290161e-02,  1.11122131e-01, -1.18644714e-01,\n",
              "        5.31913757e-01, -1.74400330e-01,  4.54521179e-01,  9.74418640e-01,\n",
              "        4.18205261e-01, -1.16004944e-01,  8.70658875e-01,  1.62162781e-01,\n",
              "        6.13059998e-01,  3.17138672e-01, -7.86209106e-02,  4.93980408e-01,\n",
              "        7.44834900e-01,  6.05392456e-02,  6.03713989e-02,  2.36778259e-01,\n",
              "        5.79223633e-01,  1.10740662e-01,  3.81782532e-01,  6.02279663e-01,\n",
              "        5.84182739e-02,  2.21824646e-01,  3.88992310e-01,  6.63612366e-01,\n",
              "        1.56120300e-01,  3.97300720e-01,  5.80154419e-01,  5.03753662e-01,\n",
              "        1.06445312e-01,  1.49841309e-01,  2.33238220e-01, -3.34167480e-03,\n",
              "       -2.85873413e-02,  2.65953064e-01,  2.60597229e-01, -6.16302490e-02,\n",
              "        1.46217346e-01,  8.24829102e-01,  5.68481445e-01, -9.56268311e-02,\n",
              "       -1.02455139e-01,  8.50067139e-02,  1.61598206e-01, -7.92617798e-02,\n",
              "        9.43962097e-01,  7.94296265e-02,  3.38417053e-01,  1.57981873e-01,\n",
              "       -6.92901611e-02,  2.15110779e-01,  4.78790283e-01,  2.15377808e-02,\n",
              "        5.34416199e-01,  1.42539978e-01, -1.58424377e-01,  1.00021362e-02,\n",
              "        2.26768494e-01,  3.34747314e-01,  6.04705811e-02, -2.08816528e-02,\n",
              "       -1.07841492e-01,  3.34335327e-01,  5.10124207e-01,  3.45932007e-01,\n",
              "       -8.66928101e-02, -4.99572754e-02,  5.05302429e-01,  8.22601318e-02,\n",
              "        6.74285889e-02,  3.23204041e-01,  3.38134766e-01,  5.37300110e-01,\n",
              "        2.91786194e-01,  3.30497742e-01, -4.09545898e-02,  8.27468872e-01,\n",
              "        6.03424072e-01,  2.36755371e-01,  7.02346802e-01,  4.44656372e-01,\n",
              "        5.81176758e-01,  1.90055847e-01,  5.45578003e-02,  9.38339233e-02,\n",
              "       -6.76956177e-02,  1.05995178e-01, -2.49252319e-02, -2.94113159e-02,\n",
              "        6.56051636e-02,  9.61074829e-02,  1.03271484e-01,  1.77772522e-01,\n",
              "        1.02096558e-01,  6.64031982e-01,  1.97700500e-01,  1.04774475e-01,\n",
              "        1.13456726e-01, -3.24630737e-02,  1.46598816e-01,  4.64958191e-01,\n",
              "        7.55508423e-01,  2.03941345e-01,  4.90135193e-01, -1.01310730e-01,\n",
              "        6.61643982e-01,  7.53471375e-01,  9.01084900e-01,  7.72949219e-01,\n",
              "        2.73429871e-01,  2.98088074e-01,  1.87126160e-01,  7.19902039e-01,\n",
              "        2.29797363e-01,  3.34632874e-01,  8.51608276e-01,  3.06320190e-02,\n",
              "       -3.72314453e-03, -7.81478882e-02,  7.49839783e-01,  2.04597473e-01,\n",
              "        4.06028748e-01,  3.32359314e-01,  1.81953430e-01,  8.23410034e-01,\n",
              "        5.03158569e-01,  6.34071350e-01, -5.07736206e-02,  4.25796509e-02,\n",
              "        1.11099243e-01,  1.89201355e-01,  6.00975037e-01,  4.09095764e-01,\n",
              "        6.87751770e-01,  2.89863586e-01, -9.21096802e-02,  4.46624756e-02,\n",
              "        1.98905945e-01,  6.18957520e-01,  1.41899109e-01,  6.98921204e-01,\n",
              "        3.11897278e-01,  1.26914978e-01,  8.11447144e-01,  6.24542236e-02,\n",
              "       -1.04484558e-01,  6.60018921e-02,  1.23748779e-01,  5.18707275e-01,\n",
              "       -5.96847534e-02,  6.39770508e-01, -1.30081177e-02,  3.84140015e-02,\n",
              "       -1.04942322e-01,  1.96571350e-01,  3.36097717e-01,  4.87998962e-01,\n",
              "        1.93817139e-01,  7.93266296e-01,  1.69387817e-01,  8.55941772e-02,\n",
              "        1.68647766e-01,  1.73156738e-01,  3.23867798e-02,  4.69230652e-01,\n",
              "        2.03071594e-01,  8.46679688e-01,  4.20898438e-01,  2.17918396e-01,\n",
              "        1.81129456e-01,  1.54930115e-01,  7.26310730e-01,  4.45205688e-01,\n",
              "        4.87533569e-01,  1.01577759e-01,  4.13154602e-01, -1.13243103e-01,\n",
              "        1.79405212e-01, -9.75036621e-03,  1.39091492e-01,  1.12022400e-01,\n",
              "        6.09596252e-01,  2.16674805e-02,  1.88301086e-01, -1.35353088e-01,\n",
              "        7.06481934e-01,  4.33082581e-01, -5.83572388e-02,  9.28695679e-01,\n",
              "        5.40626526e-01, -1.65557861e-03,  9.19029236e-01, -2.18505859e-02,\n",
              "        1.65367126e-01,  1.77780151e-01,  4.72900391e-01, -2.81524658e-03,\n",
              "        4.00382996e-01,  1.42211914e-02,  1.95396423e-01, -6.79855347e-02,\n",
              "        5.87219238e-01,  1.92474365e-01,  2.33268738e-01,  2.73651123e-01,\n",
              "        9.40742493e-01,  7.10136414e-01,  1.33438110e-01,  7.37457275e-02,\n",
              "        5.58242798e-02, -2.26371765e-01,  4.10919189e-02,  5.16891479e-02,\n",
              "        3.09066772e-02,  2.93563843e-01,  9.69337463e-01,  7.98675537e-01,\n",
              "       -2.29568481e-02,  5.26657104e-02,  2.64755249e-01,  1.75148010e-01,\n",
              "        7.06344604e-01,  1.73805237e-01,  3.44337463e-01])"
            ]
          },
          "execution_count": 25,
          "metadata": {},
          "output_type": "execute_result"
        }
      ],
      "source": [
        "#Enter Your Code and Execute\n",
        "LinearReg.predict(x_test)\n"
      ]
    },
    {
      "cell_type": "code",
      "execution_count": null,
      "metadata": {
        "id": "10839948-f9ac-41d5-9432-d5de087a6823"
      },
      "outputs": [],
      "source": [
        "predictions = LinearReg.predict(x_test)"
      ]
    },
    {
      "cell_type": "markdown",
      "metadata": {
        "id": "03e5aca1-3bf5-4527-9298-35b140218d78"
      },
      "source": [
        "#### Q4) Using the `predictions` and the `y_test` dataframe calculate the value for each metric using the appropriate function.\n"
      ]
    },
    {
      "cell_type": "code",
      "execution_count": null,
      "metadata": {
        "id": "2e600c79-5fbc-41d1-8e8a-8bb02c7bb14a"
      },
      "outputs": [],
      "source": [
        "#Enter Your Code and Execute\n",
        "from sklearn.metrics import mean_squared_error, r2_score, mean_absolute_error\n"
      ]
    },
    {
      "cell_type": "code",
      "execution_count": null,
      "metadata": {
        "id": "22ac6cad-ee09-4f12-937a-ac4963129b0f"
      },
      "outputs": [],
      "source": [
        "LinearRegression_MAE = mean_absolute_error(y_test, predictions) # Mean Squared Error (MSE)\n",
        "LinearRegression_MSE = mean_squared_error(y_test,predictions)\n",
        "LinearRegression_R2 = r2_score(y_test,predictions)"
      ]
    },
    {
      "cell_type": "markdown",
      "metadata": {
        "id": "bd4e4765-58df-42f7-b7b2-cbd333edd2b4"
      },
      "source": [
        "#### Q5) Show the MAE, MSE, and R2 in a tabular format using data frame for the linear model.\n"
      ]
    },
    {
      "cell_type": "code",
      "execution_count": null,
      "metadata": {
        "id": "3514ec1c-2340-4788-a00e-a44ace58afd4",
        "outputId": "cc941b3d-7421-4d6f-a856-61a678121487"
      },
      "outputs": [
        {
          "name": "stdout",
          "output_type": "stream",
          "text": [
            "                      Metric     Value\n",
            "0  Mean Absolute Error (MAE)  0.256319\n",
            "1   Mean Squared Error (MSE)  0.115723\n",
            "2             R-squared (R2)  0.427121\n"
          ]
        }
      ],
      "source": [
        "#Enter Your Code and Execute\n",
        "# Create a DataFrame to display metrics\n",
        "metrics_df = pd.DataFrame({\n",
        "    \"Metric\": [\"Mean Absolute Error (MAE)\", \"Mean Squared Error (MSE)\", \"R-squared (R2)\"],\n",
        "    \"Value\": [LinearRegression_MAE, LinearRegression_MSE, LinearRegression_R2]\n",
        "})\n",
        "\n",
        "# Display the DataFrame\n",
        "print(metrics_df)\n"
      ]
    },
    {
      "cell_type": "markdown",
      "metadata": {
        "id": "99695b77-5363-4de0-a26c-baf7ef296d14"
      },
      "source": [
        "### KNN\n"
      ]
    },
    {
      "cell_type": "markdown",
      "metadata": {
        "id": "2e485f53-f6f1-4924-8417-f67271b3a9c8"
      },
      "source": [
        "#### Q6) Create and train a KNN model called KNN using the training data (`x_train`, `y_train`) with the `n_neighbors` parameter set to `4`.\n"
      ]
    },
    {
      "cell_type": "code",
      "execution_count": null,
      "metadata": {
        "id": "743a8c94-a0e1-4785-8353-b7a66958cb8b"
      },
      "outputs": [],
      "source": [
        "#Enter Your Code and Execute\n",
        "from sklearn.neighbors import KNeighborsClassifier"
      ]
    },
    {
      "cell_type": "code",
      "execution_count": null,
      "metadata": {
        "id": "076b9e15-137e-4642-b2a4-f0b9086eb921",
        "outputId": "28fc91d2-e0f0-4147-e0c7-15ccf7cfceec"
      },
      "outputs": [
        {
          "data": {
            "text/html": [
              "<style>#sk-container-id-3 {color: black;background-color: white;}#sk-container-id-3 pre{padding: 0;}#sk-container-id-3 div.sk-toggleable {background-color: white;}#sk-container-id-3 label.sk-toggleable__label {cursor: pointer;display: block;width: 100%;margin-bottom: 0;padding: 0.3em;box-sizing: border-box;text-align: center;}#sk-container-id-3 label.sk-toggleable__label-arrow:before {content: \"▸\";float: left;margin-right: 0.25em;color: #696969;}#sk-container-id-3 label.sk-toggleable__label-arrow:hover:before {color: black;}#sk-container-id-3 div.sk-estimator:hover label.sk-toggleable__label-arrow:before {color: black;}#sk-container-id-3 div.sk-toggleable__content {max-height: 0;max-width: 0;overflow: hidden;text-align: left;background-color: #f0f8ff;}#sk-container-id-3 div.sk-toggleable__content pre {margin: 0.2em;color: black;border-radius: 0.25em;background-color: #f0f8ff;}#sk-container-id-3 input.sk-toggleable__control:checked~div.sk-toggleable__content {max-height: 200px;max-width: 100%;overflow: auto;}#sk-container-id-3 input.sk-toggleable__control:checked~label.sk-toggleable__label-arrow:before {content: \"▾\";}#sk-container-id-3 div.sk-estimator input.sk-toggleable__control:checked~label.sk-toggleable__label {background-color: #d4ebff;}#sk-container-id-3 div.sk-label input.sk-toggleable__control:checked~label.sk-toggleable__label {background-color: #d4ebff;}#sk-container-id-3 input.sk-hidden--visually {border: 0;clip: rect(1px 1px 1px 1px);clip: rect(1px, 1px, 1px, 1px);height: 1px;margin: -1px;overflow: hidden;padding: 0;position: absolute;width: 1px;}#sk-container-id-3 div.sk-estimator {font-family: monospace;background-color: #f0f8ff;border: 1px dotted black;border-radius: 0.25em;box-sizing: border-box;margin-bottom: 0.5em;}#sk-container-id-3 div.sk-estimator:hover {background-color: #d4ebff;}#sk-container-id-3 div.sk-parallel-item::after {content: \"\";width: 100%;border-bottom: 1px solid gray;flex-grow: 1;}#sk-container-id-3 div.sk-label:hover label.sk-toggleable__label {background-color: #d4ebff;}#sk-container-id-3 div.sk-serial::before {content: \"\";position: absolute;border-left: 1px solid gray;box-sizing: border-box;top: 0;bottom: 0;left: 50%;z-index: 0;}#sk-container-id-3 div.sk-serial {display: flex;flex-direction: column;align-items: center;background-color: white;padding-right: 0.2em;padding-left: 0.2em;position: relative;}#sk-container-id-3 div.sk-item {position: relative;z-index: 1;}#sk-container-id-3 div.sk-parallel {display: flex;align-items: stretch;justify-content: center;background-color: white;position: relative;}#sk-container-id-3 div.sk-item::before, #sk-container-id-3 div.sk-parallel-item::before {content: \"\";position: absolute;border-left: 1px solid gray;box-sizing: border-box;top: 0;bottom: 0;left: 50%;z-index: -1;}#sk-container-id-3 div.sk-parallel-item {display: flex;flex-direction: column;z-index: 1;position: relative;background-color: white;}#sk-container-id-3 div.sk-parallel-item:first-child::after {align-self: flex-end;width: 50%;}#sk-container-id-3 div.sk-parallel-item:last-child::after {align-self: flex-start;width: 50%;}#sk-container-id-3 div.sk-parallel-item:only-child::after {width: 0;}#sk-container-id-3 div.sk-dashed-wrapped {border: 1px dashed gray;margin: 0 0.4em 0.5em 0.4em;box-sizing: border-box;padding-bottom: 0.4em;background-color: white;}#sk-container-id-3 div.sk-label label {font-family: monospace;font-weight: bold;display: inline-block;line-height: 1.2em;}#sk-container-id-3 div.sk-label-container {text-align: center;}#sk-container-id-3 div.sk-container {/* jupyter's `normalize.less` sets `[hidden] { display: none; }` but bootstrap.min.css set `[hidden] { display: none !important; }` so we also need the `!important` here to be able to override the default hidden behavior on the sphinx rendered scikit-learn.org. See: https://github.com/scikit-learn/scikit-learn/issues/21755 */display: inline-block !important;position: relative;}#sk-container-id-3 div.sk-text-repr-fallback {display: none;}</style><div id=\"sk-container-id-3\" class=\"sk-top-container\"><div class=\"sk-text-repr-fallback\"><pre>KNeighborsClassifier(n_neighbors=4)</pre><b>In a Jupyter environment, please rerun this cell to show the HTML representation or trust the notebook. <br />On GitHub, the HTML representation is unable to render, please try loading this page with nbviewer.org.</b></div><div class=\"sk-container\" hidden><div class=\"sk-item\"><div class=\"sk-estimator sk-toggleable\"><input class=\"sk-toggleable__control sk-hidden--visually\" id=\"sk-estimator-id-3\" type=\"checkbox\" checked><label for=\"sk-estimator-id-3\" class=\"sk-toggleable__label sk-toggleable__label-arrow\">KNeighborsClassifier</label><div class=\"sk-toggleable__content\"><pre>KNeighborsClassifier(n_neighbors=4)</pre></div></div></div></div></div>"
            ],
            "text/plain": [
              "KNeighborsClassifier(n_neighbors=4)"
            ]
          },
          "execution_count": 31,
          "metadata": {},
          "output_type": "execute_result"
        }
      ],
      "source": [
        "KNN = KNeighborsClassifier(n_neighbors=4)\n",
        "KNN.fit(x_train,y_train)"
      ]
    },
    {
      "cell_type": "markdown",
      "metadata": {
        "id": "b3f04498-d929-4f38-be04-5e8113396beb"
      },
      "source": [
        "#### Q7) Now use the `predict` method on the testing data (`x_test`) and save it to the array `predictions`.\n"
      ]
    },
    {
      "cell_type": "code",
      "execution_count": null,
      "metadata": {
        "id": "140ca0a5-2dc9-44a7-93c2-f78127a354a8"
      },
      "outputs": [],
      "source": [
        "#Enter Your Code and Execute\n",
        "predictions =KNN.predict(x_test)"
      ]
    },
    {
      "cell_type": "code",
      "execution_count": null,
      "metadata": {
        "id": "c060ab3e-d93f-4c9a-afd0-ce39375509e0"
      },
      "outputs": [],
      "source": [
        "predictions = KNN.predict(x_test)"
      ]
    },
    {
      "cell_type": "markdown",
      "metadata": {
        "id": "003b1288-9942-406c-9811-eee84f2df091"
      },
      "source": [
        "#### Q8) Using the `predictions` and the `y_test` dataframe calculate the value for each metric using the appropriate function.\n"
      ]
    },
    {
      "cell_type": "code",
      "execution_count": null,
      "metadata": {
        "id": "ccf20cd0-c874-4000-afca-0aa7af168f17"
      },
      "outputs": [],
      "source": [
        "#Enter Your Code and Execute\n",
        "from sklearn.metrics import accuracy_score\n",
        "from sklearn.metrics import jaccard_score\n",
        "from sklearn.metrics import f1_score"
      ]
    },
    {
      "cell_type": "code",
      "execution_count": null,
      "metadata": {
        "id": "f4372bae-68b8-4b77-ba7a-3fa6f9a652d5",
        "outputId": "05e5ecf0-2d16-4434-a914-553d0648ce7b"
      },
      "outputs": [
        {
          "name": "stdout",
          "output_type": "stream",
          "text": [
            "Acc_Score :0.8183206106870229Jaccard_Score :0.4251207729468599 F1_Score :0.5966101694915255\n",
            "Acc_Score: 0.8183206106870229 Jaccard_Score: 0.4251207729468599 F1_Score: 0.5966101694915255\n"
          ]
        }
      ],
      "source": [
        "KNN_Accuracy_Score = accuracy_score(y_test,predictions)\n",
        "KNN_JaccardIndex = jaccard_score(y_test,predictions)\n",
        "KNN_F1_Score = f1_score(y_test, predictions)\n",
        "print(\"Acc_Score :\"+str(KNN_Accuracy_Score)+\"Jaccard_Score :\"+str(KNN_JaccardIndex) ,\"F1_Score :\"+str(KNN_F1_Score))\n",
        "#by f_strings\n",
        "print(f\"Acc_Score: {KNN_Accuracy_Score} Jaccard_Score: {KNN_JaccardIndex} F1_Score: {KNN_F1_Score}\")\n"
      ]
    },
    {
      "cell_type": "markdown",
      "metadata": {
        "id": "b9c0101b-83e4-43a0-b4a9-864758dfbd12"
      },
      "source": [
        "### Decision Tree\n"
      ]
    },
    {
      "cell_type": "markdown",
      "metadata": {
        "id": "9a47408a-8e4e-4e2d-8380-4ae1c57e481c"
      },
      "source": [
        "#### Q9) Create and train a Decision Tree model called Tree using the training data (`x_train`, `y_train`).\n"
      ]
    },
    {
      "cell_type": "code",
      "execution_count": null,
      "metadata": {
        "id": "e909447d-f37e-41de-9b3c-1e7d84c58027"
      },
      "outputs": [],
      "source": [
        "#Enter Your Code and Execute\n",
        "from sklearn.tree import DecisionTreeClassifier"
      ]
    },
    {
      "cell_type": "code",
      "execution_count": null,
      "metadata": {
        "id": "e0ef97f4-35d0-461e-b248-375f1cfe22a9",
        "outputId": "f1e18bef-c6ef-4cd7-90ee-1cf2876fd9f5"
      },
      "outputs": [
        {
          "data": {
            "text/html": [
              "<style>#sk-container-id-4 {color: black;background-color: white;}#sk-container-id-4 pre{padding: 0;}#sk-container-id-4 div.sk-toggleable {background-color: white;}#sk-container-id-4 label.sk-toggleable__label {cursor: pointer;display: block;width: 100%;margin-bottom: 0;padding: 0.3em;box-sizing: border-box;text-align: center;}#sk-container-id-4 label.sk-toggleable__label-arrow:before {content: \"▸\";float: left;margin-right: 0.25em;color: #696969;}#sk-container-id-4 label.sk-toggleable__label-arrow:hover:before {color: black;}#sk-container-id-4 div.sk-estimator:hover label.sk-toggleable__label-arrow:before {color: black;}#sk-container-id-4 div.sk-toggleable__content {max-height: 0;max-width: 0;overflow: hidden;text-align: left;background-color: #f0f8ff;}#sk-container-id-4 div.sk-toggleable__content pre {margin: 0.2em;color: black;border-radius: 0.25em;background-color: #f0f8ff;}#sk-container-id-4 input.sk-toggleable__control:checked~div.sk-toggleable__content {max-height: 200px;max-width: 100%;overflow: auto;}#sk-container-id-4 input.sk-toggleable__control:checked~label.sk-toggleable__label-arrow:before {content: \"▾\";}#sk-container-id-4 div.sk-estimator input.sk-toggleable__control:checked~label.sk-toggleable__label {background-color: #d4ebff;}#sk-container-id-4 div.sk-label input.sk-toggleable__control:checked~label.sk-toggleable__label {background-color: #d4ebff;}#sk-container-id-4 input.sk-hidden--visually {border: 0;clip: rect(1px 1px 1px 1px);clip: rect(1px, 1px, 1px, 1px);height: 1px;margin: -1px;overflow: hidden;padding: 0;position: absolute;width: 1px;}#sk-container-id-4 div.sk-estimator {font-family: monospace;background-color: #f0f8ff;border: 1px dotted black;border-radius: 0.25em;box-sizing: border-box;margin-bottom: 0.5em;}#sk-container-id-4 div.sk-estimator:hover {background-color: #d4ebff;}#sk-container-id-4 div.sk-parallel-item::after {content: \"\";width: 100%;border-bottom: 1px solid gray;flex-grow: 1;}#sk-container-id-4 div.sk-label:hover label.sk-toggleable__label {background-color: #d4ebff;}#sk-container-id-4 div.sk-serial::before {content: \"\";position: absolute;border-left: 1px solid gray;box-sizing: border-box;top: 0;bottom: 0;left: 50%;z-index: 0;}#sk-container-id-4 div.sk-serial {display: flex;flex-direction: column;align-items: center;background-color: white;padding-right: 0.2em;padding-left: 0.2em;position: relative;}#sk-container-id-4 div.sk-item {position: relative;z-index: 1;}#sk-container-id-4 div.sk-parallel {display: flex;align-items: stretch;justify-content: center;background-color: white;position: relative;}#sk-container-id-4 div.sk-item::before, #sk-container-id-4 div.sk-parallel-item::before {content: \"\";position: absolute;border-left: 1px solid gray;box-sizing: border-box;top: 0;bottom: 0;left: 50%;z-index: -1;}#sk-container-id-4 div.sk-parallel-item {display: flex;flex-direction: column;z-index: 1;position: relative;background-color: white;}#sk-container-id-4 div.sk-parallel-item:first-child::after {align-self: flex-end;width: 50%;}#sk-container-id-4 div.sk-parallel-item:last-child::after {align-self: flex-start;width: 50%;}#sk-container-id-4 div.sk-parallel-item:only-child::after {width: 0;}#sk-container-id-4 div.sk-dashed-wrapped {border: 1px dashed gray;margin: 0 0.4em 0.5em 0.4em;box-sizing: border-box;padding-bottom: 0.4em;background-color: white;}#sk-container-id-4 div.sk-label label {font-family: monospace;font-weight: bold;display: inline-block;line-height: 1.2em;}#sk-container-id-4 div.sk-label-container {text-align: center;}#sk-container-id-4 div.sk-container {/* jupyter's `normalize.less` sets `[hidden] { display: none; }` but bootstrap.min.css set `[hidden] { display: none !important; }` so we also need the `!important` here to be able to override the default hidden behavior on the sphinx rendered scikit-learn.org. See: https://github.com/scikit-learn/scikit-learn/issues/21755 */display: inline-block !important;position: relative;}#sk-container-id-4 div.sk-text-repr-fallback {display: none;}</style><div id=\"sk-container-id-4\" class=\"sk-top-container\"><div class=\"sk-text-repr-fallback\"><pre>DecisionTreeClassifier(criterion=&#x27;entropy&#x27;, random_state=0)</pre><b>In a Jupyter environment, please rerun this cell to show the HTML representation or trust the notebook. <br />On GitHub, the HTML representation is unable to render, please try loading this page with nbviewer.org.</b></div><div class=\"sk-container\" hidden><div class=\"sk-item\"><div class=\"sk-estimator sk-toggleable\"><input class=\"sk-toggleable__control sk-hidden--visually\" id=\"sk-estimator-id-4\" type=\"checkbox\" checked><label for=\"sk-estimator-id-4\" class=\"sk-toggleable__label sk-toggleable__label-arrow\">DecisionTreeClassifier</label><div class=\"sk-toggleable__content\"><pre>DecisionTreeClassifier(criterion=&#x27;entropy&#x27;, random_state=0)</pre></div></div></div></div></div>"
            ],
            "text/plain": [
              "DecisionTreeClassifier(criterion='entropy', random_state=0)"
            ]
          },
          "execution_count": 37,
          "metadata": {},
          "output_type": "execute_result"
        }
      ],
      "source": [
        "Tree = DecisionTreeClassifier(criterion='entropy' ,random_state=0)\n",
        "Tree.fit(x_train,y_train)"
      ]
    },
    {
      "cell_type": "markdown",
      "metadata": {
        "id": "3dbb3bad-45af-44c2-81fa-0b1a101c636e"
      },
      "source": [
        "#### Q10) Now use the `predict` method on the testing data (`x_test`) and save it to the array `predictions`.\n"
      ]
    },
    {
      "cell_type": "code",
      "execution_count": null,
      "metadata": {
        "id": "c92e47de-aeea-4efa-8f06-2b2f3546494a"
      },
      "outputs": [],
      "source": [
        "#Enter Your Code and Execute\n",
        "predictions=Tree.predict(x_test)"
      ]
    },
    {
      "cell_type": "code",
      "execution_count": null,
      "metadata": {
        "id": "c455e660-29c4-42e7-968d-73bfc7f99577"
      },
      "outputs": [],
      "source": [
        "predictions = Tree.predict(x_test)"
      ]
    },
    {
      "cell_type": "markdown",
      "metadata": {
        "id": "5f62e69e-6778-43b0-aa82-4d04107acd63"
      },
      "source": [
        "#### Q11) Using the `predictions` and the `y_test` dataframe calculate the value for each metric using the appropriate function.\n"
      ]
    },
    {
      "cell_type": "code",
      "execution_count": null,
      "metadata": {
        "id": "ac39549e-e175-497a-87b7-635362b43460"
      },
      "outputs": [],
      "source": [
        "#Enter Your Code and Execute\n",
        "from sklearn.metrics import accuracy_score\n",
        "from sklearn.metrics import jaccard_score\n",
        "from sklearn.metrics import f1_score"
      ]
    },
    {
      "cell_type": "code",
      "execution_count": null,
      "metadata": {
        "id": "301accd2-9515-43e2-ad5f-c525ad649104",
        "outputId": "86af4102-6e91-4066-9aa5-29a96f5789d0"
      },
      "outputs": [
        {
          "name": "stdout",
          "output_type": "stream",
          "text": [
            "accuracy_score : 0.7633587786259542 , jaccard_score : 0.40384615384615385 ,f1_score :0.5753424657534246 \n"
          ]
        }
      ],
      "source": [
        "Tree_Accuracy_Score = accuracy_score(y_test,predictions)\n",
        "Tree_JaccardIndex = jaccard_score(y_test,predictions)\n",
        "Tree_F1_Score = f1_score(y_test,predictions)\n",
        "print(f\"accuracy_score : {Tree_Accuracy_Score} , jaccard_score : {Tree_JaccardIndex} ,f1_score :{Tree_F1_Score} \")"
      ]
    },
    {
      "cell_type": "markdown",
      "metadata": {
        "id": "3e9e7a03-a6b2-4c19-8ca6-2bc049cebc9c"
      },
      "source": [
        "### Logistic Regression\n"
      ]
    },
    {
      "cell_type": "markdown",
      "metadata": {
        "id": "f0482cc1-21a7-401e-94e7-9aa2e50f1404"
      },
      "source": [
        "#### Q12) Use the `train_test_split` function to split the `features` and `Y` dataframes with a `test_size` of `0.2` and the `random_state` set to `1`.\n"
      ]
    },
    {
      "cell_type": "code",
      "execution_count": null,
      "metadata": {
        "id": "c6ffd905-3443-47d4-b4c0-18a117755e77"
      },
      "outputs": [],
      "source": [
        "#Enter Your Code and Execute\n",
        "from sklearn.model_selection import train_test_split\n",
        "x_train,y_train,x_test,y_test =train_test_split(features,Y,test_size=0.2 ,random_state =1)"
      ]
    },
    {
      "cell_type": "code",
      "execution_count": null,
      "metadata": {
        "id": "17e453da-e01c-4966-b4bb-b15574b3f70d"
      },
      "outputs": [],
      "source": [
        "x_train, x_test, y_train, y_test = train_test_split(features,Y,test_size=0.2 ,random_state =1)"
      ]
    },
    {
      "cell_type": "markdown",
      "metadata": {
        "id": "c484345e-e801-432c-8615-a92f72ba9d71"
      },
      "source": [
        "#### Q13) Create and train a LogisticRegression model called LR using the training data (`x_train`, `y_train`) with the `solver` parameter set to `liblinear`.\n"
      ]
    },
    {
      "cell_type": "code",
      "execution_count": null,
      "metadata": {
        "id": "b4e10d23-92f8-40be-b712-bf04c1240dd8"
      },
      "outputs": [],
      "source": [
        "#Enter Your Code and Execute\n",
        "from sklearn.linear_model import LogisticRegression\n"
      ]
    },
    {
      "cell_type": "code",
      "execution_count": null,
      "metadata": {
        "id": "ae15404c-7a9f-4d04-8f1f-31807292a42b",
        "outputId": "1c0cf536-dd3d-4210-efba-de2b71c20de1"
      },
      "outputs": [
        {
          "data": {
            "text/html": [
              "<style>#sk-container-id-6 {color: black;background-color: white;}#sk-container-id-6 pre{padding: 0;}#sk-container-id-6 div.sk-toggleable {background-color: white;}#sk-container-id-6 label.sk-toggleable__label {cursor: pointer;display: block;width: 100%;margin-bottom: 0;padding: 0.3em;box-sizing: border-box;text-align: center;}#sk-container-id-6 label.sk-toggleable__label-arrow:before {content: \"▸\";float: left;margin-right: 0.25em;color: #696969;}#sk-container-id-6 label.sk-toggleable__label-arrow:hover:before {color: black;}#sk-container-id-6 div.sk-estimator:hover label.sk-toggleable__label-arrow:before {color: black;}#sk-container-id-6 div.sk-toggleable__content {max-height: 0;max-width: 0;overflow: hidden;text-align: left;background-color: #f0f8ff;}#sk-container-id-6 div.sk-toggleable__content pre {margin: 0.2em;color: black;border-radius: 0.25em;background-color: #f0f8ff;}#sk-container-id-6 input.sk-toggleable__control:checked~div.sk-toggleable__content {max-height: 200px;max-width: 100%;overflow: auto;}#sk-container-id-6 input.sk-toggleable__control:checked~label.sk-toggleable__label-arrow:before {content: \"▾\";}#sk-container-id-6 div.sk-estimator input.sk-toggleable__control:checked~label.sk-toggleable__label {background-color: #d4ebff;}#sk-container-id-6 div.sk-label input.sk-toggleable__control:checked~label.sk-toggleable__label {background-color: #d4ebff;}#sk-container-id-6 input.sk-hidden--visually {border: 0;clip: rect(1px 1px 1px 1px);clip: rect(1px, 1px, 1px, 1px);height: 1px;margin: -1px;overflow: hidden;padding: 0;position: absolute;width: 1px;}#sk-container-id-6 div.sk-estimator {font-family: monospace;background-color: #f0f8ff;border: 1px dotted black;border-radius: 0.25em;box-sizing: border-box;margin-bottom: 0.5em;}#sk-container-id-6 div.sk-estimator:hover {background-color: #d4ebff;}#sk-container-id-6 div.sk-parallel-item::after {content: \"\";width: 100%;border-bottom: 1px solid gray;flex-grow: 1;}#sk-container-id-6 div.sk-label:hover label.sk-toggleable__label {background-color: #d4ebff;}#sk-container-id-6 div.sk-serial::before {content: \"\";position: absolute;border-left: 1px solid gray;box-sizing: border-box;top: 0;bottom: 0;left: 50%;z-index: 0;}#sk-container-id-6 div.sk-serial {display: flex;flex-direction: column;align-items: center;background-color: white;padding-right: 0.2em;padding-left: 0.2em;position: relative;}#sk-container-id-6 div.sk-item {position: relative;z-index: 1;}#sk-container-id-6 div.sk-parallel {display: flex;align-items: stretch;justify-content: center;background-color: white;position: relative;}#sk-container-id-6 div.sk-item::before, #sk-container-id-6 div.sk-parallel-item::before {content: \"\";position: absolute;border-left: 1px solid gray;box-sizing: border-box;top: 0;bottom: 0;left: 50%;z-index: -1;}#sk-container-id-6 div.sk-parallel-item {display: flex;flex-direction: column;z-index: 1;position: relative;background-color: white;}#sk-container-id-6 div.sk-parallel-item:first-child::after {align-self: flex-end;width: 50%;}#sk-container-id-6 div.sk-parallel-item:last-child::after {align-self: flex-start;width: 50%;}#sk-container-id-6 div.sk-parallel-item:only-child::after {width: 0;}#sk-container-id-6 div.sk-dashed-wrapped {border: 1px dashed gray;margin: 0 0.4em 0.5em 0.4em;box-sizing: border-box;padding-bottom: 0.4em;background-color: white;}#sk-container-id-6 div.sk-label label {font-family: monospace;font-weight: bold;display: inline-block;line-height: 1.2em;}#sk-container-id-6 div.sk-label-container {text-align: center;}#sk-container-id-6 div.sk-container {/* jupyter's `normalize.less` sets `[hidden] { display: none; }` but bootstrap.min.css set `[hidden] { display: none !important; }` so we also need the `!important` here to be able to override the default hidden behavior on the sphinx rendered scikit-learn.org. See: https://github.com/scikit-learn/scikit-learn/issues/21755 */display: inline-block !important;position: relative;}#sk-container-id-6 div.sk-text-repr-fallback {display: none;}</style><div id=\"sk-container-id-6\" class=\"sk-top-container\"><div class=\"sk-text-repr-fallback\"><pre>LogisticRegression(C=0.001, solver=&#x27;liblinear&#x27;)</pre><b>In a Jupyter environment, please rerun this cell to show the HTML representation or trust the notebook. <br />On GitHub, the HTML representation is unable to render, please try loading this page with nbviewer.org.</b></div><div class=\"sk-container\" hidden><div class=\"sk-item\"><div class=\"sk-estimator sk-toggleable\"><input class=\"sk-toggleable__control sk-hidden--visually\" id=\"sk-estimator-id-6\" type=\"checkbox\" checked><label for=\"sk-estimator-id-6\" class=\"sk-toggleable__label sk-toggleable__label-arrow\">LogisticRegression</label><div class=\"sk-toggleable__content\"><pre>LogisticRegression(C=0.001, solver=&#x27;liblinear&#x27;)</pre></div></div></div></div></div>"
            ],
            "text/plain": [
              "LogisticRegression(C=0.001, solver='liblinear')"
            ]
          },
          "execution_count": 46,
          "metadata": {},
          "output_type": "execute_result"
        }
      ],
      "source": [
        "LR = LogisticRegression(C=0.001 ,solver='liblinear') # we can use other solvers too ,C inverse of regularisation\n",
        "LR.fit(x_train,y_train)"
      ]
    },
    {
      "cell_type": "markdown",
      "metadata": {
        "id": "2e507e6a-d838-41c7-b02e-fc6059966b1d"
      },
      "source": [
        "#### Q14) Now, use the `predict` and `predict_proba` methods on the testing data (`x_test`) and save it as 2 arrays `predictions` and `predict_proba`.\n"
      ]
    },
    {
      "cell_type": "code",
      "execution_count": null,
      "metadata": {
        "id": "6ebb6845-f367-4884-a59c-a94fff42d1be"
      },
      "outputs": [],
      "source": [
        "#Enter Your Code and Execute\n",
        "predictions =LR.predict(x_test)\n",
        "predict_proba =LR.predict_proba(x_test)\n",
        "#print(f\"predictions : {predictions},Predict_proba : {predict_proba}\")"
      ]
    },
    {
      "cell_type": "code",
      "execution_count": null,
      "metadata": {
        "id": "e3ca4134-33f9-4998-9b86-e1617368fcaa"
      },
      "outputs": [],
      "source": [
        "predictions = LR.predict(x_test)"
      ]
    },
    {
      "cell_type": "code",
      "execution_count": null,
      "metadata": {
        "id": "b3de7f83-35e3-45af-a860-e55136cac08a"
      },
      "outputs": [],
      "source": [
        "predict_proba =LR.predict_proba(x_test)"
      ]
    },
    {
      "cell_type": "markdown",
      "metadata": {
        "id": "b8512dbb-b19b-4d3b-a1f4-ab9695c378d4"
      },
      "source": [
        "#### Q15) Using the `predictions`, `predict_proba` and the `y_test` dataframe calculate the value for each metric using the appropriate function.\n"
      ]
    },
    {
      "cell_type": "code",
      "execution_count": null,
      "metadata": {
        "id": "bd7367b5-cd89-4db8-aaab-913676b3dfad"
      },
      "outputs": [],
      "source": [
        "#Enter Your Code and Execute\n",
        "from sklearn.metrics import log_loss    #Logloss is only for Logistic Regression\n",
        "from sklearn.metrics import accuracy_score\n",
        "from sklearn.metrics import jaccard_score\n",
        "from sklearn.metrics import f1_score"
      ]
    },
    {
      "cell_type": "code",
      "execution_count": null,
      "metadata": {
        "id": "46ecffff-0dab-4dc3-8815-0e7712722f20",
        "outputId": "2907ae08-9040-42f3-d024-aaf8bb1efd6e"
      },
      "outputs": [
        {
          "name": "stdout",
          "output_type": "stream",
          "text": [
            "Acc_Score : 0.8213740458015267,Jaccard_Score : 0.4583333333333333, f1_Score : 0.6285714285714286, Log_Loss :6.438331979430086\n"
          ]
        }
      ],
      "source": [
        "LR_Accuracy_Score = accuracy_score(y_test,predictions)\n",
        "LR_JaccardIndex =jaccard_score(y_test,predictions)\n",
        "LR_F1_Score = f1_score(y_test,predictions)\n",
        "LR_Log_Loss = log_loss(y_test,predict_proba) #predict_proba\n",
        "print(f\"Acc_Score : {LR_Accuracy_Score},Jaccard_Score : {LR_JaccardIndex}, f1_Score : {LR_F1_Score}, Log_Loss :{LR_Log_Loss}\")"
      ]
    },
    {
      "cell_type": "markdown",
      "metadata": {
        "id": "94298343-aca9-4311-a267-a8ac024b1033"
      },
      "source": [
        "### SVM\n"
      ]
    },
    {
      "cell_type": "markdown",
      "metadata": {
        "id": "1e7f9a35-fb3f-487c-9d96-47bd17df393d"
      },
      "source": [
        "#### Q16) Create and train a SVM model called SVM using the training data (`x_train`, `y_train`).\n"
      ]
    },
    {
      "cell_type": "code",
      "execution_count": null,
      "metadata": {
        "id": "37b64a59-7e29-4e4f-a689-065c1819fc96"
      },
      "outputs": [],
      "source": [
        "#Enter Your Code and Execute\n",
        "from sklearn import svm\n",
        "clf =svm.SVC(kernel='rbf')\n",
        "\n",
        "#kernal can be rbf,polynomial ,linear or sigmoid\n"
      ]
    },
    {
      "cell_type": "code",
      "execution_count": null,
      "metadata": {
        "id": "3a77b850-a3ec-45e7-ba3f-8501ef4d3b5f"
      },
      "outputs": [],
      "source": [
        "SVM = clf.fit(x_train,y_train)"
      ]
    },
    {
      "cell_type": "markdown",
      "metadata": {
        "id": "e50e7032-0b80-414c-93ea-e35ff941e49b"
      },
      "source": [
        "#### Q17) Now use the `predict` method on the testing data (`x_test`) and save it to the array `predictions`.\n"
      ]
    },
    {
      "cell_type": "code",
      "execution_count": null,
      "metadata": {
        "id": "aeeca7de-09d5-45ad-aacc-f0457ca6ee37",
        "outputId": "6b5398d7-cefe-4827-c231-b3a2d9a9d623"
      },
      "outputs": [
        {
          "data": {
            "text/plain": [
              "array([0., 0., 0., 0., 0., 0., 0., 0., 0., 0., 0., 0., 0., 0., 0., 0., 0.,\n",
              "       0., 0., 0., 0., 0., 0., 0., 0., 0., 0., 0., 0., 0., 0., 0., 0., 0.,\n",
              "       0., 0., 0., 0., 0., 0., 0., 0., 0., 0., 0., 0., 0., 0., 0., 0., 0.,\n",
              "       0., 0., 0., 0., 0., 0., 0., 0., 0., 0., 0., 0., 0., 0., 0., 0., 0.,\n",
              "       0., 0., 0., 0., 0., 0., 0., 0., 0., 0., 0., 0., 0., 0., 0., 0., 0.,\n",
              "       0., 0., 0., 0., 0., 0., 0., 0., 0., 0., 0., 0., 0., 0., 0., 0., 0.,\n",
              "       0., 0., 0., 0., 0., 0., 0., 0., 0., 0., 0., 0., 0., 0., 0., 0., 0.,\n",
              "       0., 0., 0., 0., 0., 0., 0., 0., 0., 0., 0., 0., 0., 0., 0., 0., 0.,\n",
              "       0., 0., 0., 0., 0., 0., 0., 0., 0., 0., 0., 0., 0., 0., 0., 0., 0.,\n",
              "       0., 0., 0., 0., 0., 0., 0., 0., 0., 0., 0., 0., 0., 0., 0., 0., 0.,\n",
              "       0., 0., 0., 0., 0., 0., 0., 0., 0., 0., 0., 0., 0., 0., 0., 0., 0.,\n",
              "       0., 0., 0., 0., 0., 0., 0., 0., 0., 0., 0., 0., 0., 0., 0., 0., 0.,\n",
              "       0., 0., 0., 0., 0., 0., 0., 0., 0., 0., 0., 0., 0., 0., 0., 0., 0.,\n",
              "       0., 0., 0., 0., 0., 0., 0., 0., 0., 0., 0., 0., 0., 0., 0., 0., 0.,\n",
              "       0., 0., 0., 0., 0., 0., 0., 0., 0., 0., 0., 0., 0., 0., 0., 0., 0.,\n",
              "       0., 0., 0., 0., 0., 0., 0., 0., 0., 0., 0., 0., 0., 0., 0., 0., 0.,\n",
              "       0., 0., 0., 0., 0., 0., 0., 0., 0., 0., 0., 0., 0., 0., 0., 0., 0.,\n",
              "       0., 0., 0., 0., 0., 0., 0., 0., 0., 0., 0., 0., 0., 0., 0., 0., 0.,\n",
              "       0., 0., 0., 0., 0., 0., 0., 0., 0., 0., 0., 0., 0., 0., 0., 0., 0.,\n",
              "       0., 0., 0., 0., 0., 0., 0., 0., 0., 0., 0., 0., 0., 0., 0., 0., 0.,\n",
              "       0., 0., 0., 0., 0., 0., 0., 0., 0., 0., 0., 0., 0., 0., 0., 0., 0.,\n",
              "       0., 0., 0., 0., 0., 0., 0., 0., 0., 0., 0., 0., 0., 0., 0., 0., 0.,\n",
              "       0., 0., 0., 0., 0., 0., 0., 0., 0., 0., 0., 0., 0., 0., 0., 0., 0.,\n",
              "       0., 0., 0., 0., 0., 0., 0., 0., 0., 0., 0., 0., 0., 0., 0., 0., 0.,\n",
              "       0., 0., 0., 0., 0., 0., 0., 0., 0., 0., 0., 0., 0., 0., 0., 0., 0.,\n",
              "       0., 0., 0., 0., 0., 0., 0., 0., 0., 0., 0., 0., 0., 0., 0., 0., 0.,\n",
              "       0., 0., 0., 0., 0., 0., 0., 0., 0., 0., 0., 0., 0., 0., 0., 0., 0.,\n",
              "       0., 0., 0., 0., 0., 0., 0., 0., 0., 0., 0., 0., 0., 0., 0., 0., 0.,\n",
              "       0., 0., 0., 0., 0., 0., 0., 0., 0., 0., 0., 0., 0., 0., 0., 0., 0.,\n",
              "       0., 0., 0., 0., 0., 0., 0., 0., 0., 0., 0., 0., 0., 0., 0., 0., 0.,\n",
              "       0., 0., 0., 0., 0., 0., 0., 0., 0., 0., 0., 0., 0., 0., 0., 0., 0.,\n",
              "       0., 0., 0., 0., 0., 0., 0., 0., 0., 0., 0., 0., 0., 0., 0., 0., 0.,\n",
              "       0., 0., 0., 0., 0., 0., 0., 0., 0., 0., 0., 0., 0., 0., 0., 0., 0.,\n",
              "       0., 0., 0., 0., 0., 0., 0., 0., 0., 0., 0., 0., 0., 0., 0., 0., 0.,\n",
              "       0., 0., 0., 0., 0., 0., 0., 0., 0., 0., 0., 0., 0., 0., 0., 0., 0.,\n",
              "       0., 0., 0., 0., 0., 0., 0., 0., 0., 0., 0., 0., 0., 0., 0., 0., 0.,\n",
              "       0., 0., 0., 0., 0., 0., 0., 0., 0., 0., 0., 0., 0., 0., 0., 0., 0.,\n",
              "       0., 0., 0., 0., 0., 0., 0., 0., 0., 0., 0., 0., 0., 0., 0., 0., 0.,\n",
              "       0., 0., 0., 0., 0., 0., 0., 0., 0.])"
            ]
          },
          "execution_count": 57,
          "metadata": {},
          "output_type": "execute_result"
        }
      ],
      "source": [
        "#Enter Your Code and Execute\n",
        "SVM.predict(x_test)"
      ]
    },
    {
      "cell_type": "code",
      "execution_count": null,
      "metadata": {
        "id": "7b26f131-584e-413a-bb4c-1af859b01e19"
      },
      "outputs": [],
      "source": [
        "predictions = SVM.predict(x_test)"
      ]
    },
    {
      "cell_type": "markdown",
      "metadata": {
        "id": "87096852-98e6-4115-bdb2-a8603cee605a"
      },
      "source": [
        "#### Q18) Using the `predictions` and the `y_test` dataframe calculate the value for each metric using the appropriate function.\n"
      ]
    },
    {
      "cell_type": "code",
      "execution_count": null,
      "metadata": {
        "id": "da8140a8-563e-4b01-be32-869b8120c85e",
        "outputId": "7cb805c3-d837-445b-ea49-d1aa1b47a70a"
      },
      "outputs": [
        {
          "name": "stdout",
          "output_type": "stream",
          "text": [
            "Acc_score :0.7221374045801526, Jaccard_score:0.0, f1_score :0.0\n"
          ]
        }
      ],
      "source": [
        "SVM_Accuracy_Score = accuracy_score(y_test,predictions)\n",
        "SVM_JaccardIndex =jaccard_score(y_test,predictions)\n",
        "SVM_F1_Score = f1_score(y_test,predictions)\n",
        "print(f\"Acc_score :{SVM_Accuracy_Score}, Jaccard_score:{SVM_JaccardIndex}, f1_score :{SVM_F1_Score}\")"
      ]
    },
    {
      "cell_type": "markdown",
      "metadata": {
        "id": "c359d67e-2279-48f7-8f4e-5cfbce38787f"
      },
      "source": [
        "### Report\n"
      ]
    },
    {
      "cell_type": "markdown",
      "metadata": {
        "id": "8b34aeff-18d6-4f17-99ee-bb66f6cdb5ec"
      },
      "source": [
        "#### Q19) Show the Accuracy,Jaccard Index,F1-Score and LogLoss in a tabular format using data frame for all of the above models.\n",
        "\n",
        "\\*LogLoss is only for Logistic Regression Model\n"
      ]
    },
    {
      "cell_type": "code",
      "execution_count": null,
      "metadata": {
        "id": "1Jv_ty0fGSfl",
        "outputId": "ab681b51-c71f-4d52-840d-fdaf934ccb2b"
      },
      "outputs": [
        {
          "name": "stdout",
          "output_type": "stream",
          "text": [
            "                 Model  Accuracy  Jaccard Index  F1-Score   Log Loss\n",
            "0    Linear Regression  0.722137            0.0       0.0        NaN\n",
            "1                  KNN  0.722137            0.0       0.0        NaN\n",
            "2       Decision Trees  0.722137            0.0       0.0        NaN\n",
            "3  Logistic Regression  0.722137            0.0       0.0  10.015183\n",
            "4                  SVM  0.722137            0.0       0.0        NaN\n"
          ]
        }
      ],
      "source": [
        "import pandas as pd\n",
        "from sklearn.metrics import accuracy_score, jaccard_score, f1_score, log_loss\n",
        "\n",
        "# We already have predictions for each model\n",
        "metrics_data = {\n",
        "    \"Model\": [\"Linear Regression\", \"KNN\", \"Decision Trees\", \"Logistic Regression\", \"SVM\"],\n",
        "    \"Accuracy\": [\n",
        "        accuracy_score(y_test, predictions),\n",
        "        accuracy_score(y_test, predictions),\n",
        "        accuracy_score(y_test, predictions),\n",
        "        accuracy_score(y_test, predictions),\n",
        "        accuracy_score(y_test, predictions),\n",
        "    ],\n",
        "    \"Jaccard Index\": [\n",
        "        jaccard_score(y_test, predictions, average=\"binary\"),\n",
        "        jaccard_score(y_test, predictions, average=\"binary\"),\n",
        "        jaccard_score(y_test, predictions, average=\"binary\"),\n",
        "        jaccard_score(y_test, predictions, average=\"binary\"),\n",
        "        jaccard_score(y_test, predictions, average=\"binary\"),\n",
        "    ],\n",
        "    \"F1-Score\": [\n",
        "        f1_score(y_test, predictions, average=\"binary\"),\n",
        "        f1_score(y_test, predictions, average=\"binary\"),\n",
        "        f1_score(y_test, predictions, average=\"binary\"),\n",
        "        f1_score(y_test, predictions, average=\"binary\"),\n",
        "        f1_score(y_test, predictions, average=\"binary\"),\n",
        "    ],\n",
        "    \"Log Loss\": [\n",
        "        None,  # Log Loss is not applicable for Linear Regression\n",
        "        None,  # Log Loss is not applicable for KNN\n",
        "        None,  # Log Loss is not applicable for Decision Trees\n",
        "        log_loss(y_test,predictions ),  # Use probabilities for Logistic Regression\n",
        "        None,  # Log Loss is not applicable for SVM\n",
        "    ],\n",
        "}\n",
        "\n",
        "# Create a DataFrame\n",
        "metrics_df = pd.DataFrame(metrics_data)\n",
        "\n",
        "# Display the DataFrame\n",
        "print(metrics_df)\n"
      ]
    },
    {
      "cell_type": "code",
      "execution_count": null,
      "metadata": {
        "id": "b641ad9b-6453-4d42-b0c2-ae4847728180",
        "outputId": "91d218fb-8e9d-4703-8205-96a0d51c9cb8"
      },
      "outputs": [
        {
          "name": "stdout",
          "output_type": "stream",
          "text": [
            "                 Model  Accuracy  Jaccard Index  F1-Score   Log Loss\n",
            "0    Linear Regression  0.722137            0.0       0.0        NaN\n",
            "1                  KNN  0.722137            0.0       0.0        NaN\n",
            "2       Decision Trees  0.722137            0.0       0.0        NaN\n",
            "3  Logistic Regression  0.722137            0.0       0.0  10.015183\n",
            "4                  SVM  0.722137            0.0       0.0        NaN\n"
          ]
        }
      ],
      "source": [
        "Report =pd.DataFrame(metrics_data)\n",
        "print(Report)"
      ]
    },
    {
      "cell_type": "markdown",
      "metadata": {
        "id": "e26f707c-9e55-46f8-a96e-d683ead0d845"
      },
      "source": [
        "<h2 id=\"Section_5\">  How to submit </h2>\n",
        "\n",
        "<p>Once you complete your notebook you will have to share it. You can download the notebook by navigating to \"File\" and clicking on \"Download\" button.\n",
        "\n",
        "<p>This will save the (.ipynb) file on your computer. Once saved, you can upload this file in the \"My Submission\" tab, of the \"Peer-graded Assignment\" section.  \n"
      ]
    },
    {
      "cell_type": "markdown",
      "metadata": {
        "id": "7998511d-7e88-4f2f-95f5-6d27bcb167f1"
      },
      "source": [
        "<h2>About the Authors:</h2>\n",
        "\n",
        "<a href=\"https://www.linkedin.com/in/joseph-s-50398b136/?utm_medium=Exinfluencer&utm_source=Exinfluencer&utm_content=000026UJ&utm_term=10006555&utm_id=NA-SkillsNetwork-Channel-SkillsNetworkCoursesIBMDeveloperSkillsNetworkML0101ENSkillsNetwork20718538-2022-01-01\">Joseph Santarcangelo</a> has a PhD in Electrical Engineering, his research focused on using machine learning, signal processing, and computer vision to determine how videos impact human cognition. Joseph has been working for IBM since he completed his PhD.\n",
        "\n",
        "### Other Contributors\n",
        "\n",
        "[Svitlana Kramar](https://www.linkedin.com/in/svitlana-kramar/?utm_medium=Exinfluencer&utm_source=Exinfluencer&utm_content=000026UJ&utm_term=10006555&utm_id=NA-SkillsNetwork-Channel-SkillsNetworkCoursesIBMML0232ENSkillsNetwork30654641-2022-01-01)\n"
      ]
    },
    {
      "cell_type": "markdown",
      "metadata": {
        "id": "90cd7956-858f-47af-8890-dd86a9387fe6"
      },
      "source": [
        "## <h3 align=\"center\"> © IBM Corporation 2020. All rights reserved. <h3/>\n",
        "\n",
        "<!--\n",
        "## Change Log\n",
        "\n",
        "| Date (YYYY-MM-DD) | Version | Changed By    | Change Description          |\n",
        "| ----------------- | ------- | ------------- | --------------------------- |\n",
        "| 2022-06-22        | 2.0     | Svitlana K.   | Deleted GridSearch and Mock |\n",
        "--!>"
      ]
    }
  ],
  "metadata": {
    "kernelspec": {
      "display_name": "base",
      "language": "python",
      "name": "python3"
    },
    "language_info": {
      "codemirror_mode": {
        "name": "ipython",
        "version": 3
      },
      "file_extension": ".py",
      "mimetype": "text/x-python",
      "name": "python",
      "nbconvert_exporter": "python",
      "pygments_lexer": "ipython3",
      "version": "3.11.7"
    },
    "prev_pub_hash": "b45b938fc7420206c5fa3f040f896f2a578fd1045d763cf82b4c02f8772d2aee",
    "colab": {
      "provenance": [],
      "include_colab_link": true
    }
  },
  "nbformat": 4,
  "nbformat_minor": 0
}